{
  "cells": [
    {
      "cell_type": "markdown",
      "metadata": {},
      "source": [
        "# Automated ML\n",
        "\n",
        "Import Dependencies."
      ]
    },
    {
      "cell_type": "code",
      "execution_count": 1,
      "metadata": {
        "gather": {
          "logged": 1649414832775
        },
        "jupyter": {
          "outputs_hidden": false,
          "source_hidden": false
        },
        "nteract": {
          "transient": {
            "deleting": false
          }
        }
      },
      "outputs": [],
      "source": [
        "from azureml.core import Workspace, Experiment, Environment, Dataset\n",
        "from azureml.core.compute import ComputeTarget\n",
        "from azureml.widgets import RunDetails\n",
        "from azureml.core.webservice import AciWebservice\n",
        "from azureml.core.model import InferenceConfig, Model\n",
        "import requests, json\n",
        "from azureml.train.automl import AutoMLConfig\n",
        "import pandas as pd\n",
        "import numpy as np\n",
        "from sklearn.metrics import confusion_matrix\n",
        "from matplotlib import pyplot as plt\n",
        "from numpy import array\n",
        "import logging, itertools\n",
        "logging.basicConfig(level=logging.INFO)"
      ]
    },
    {
      "cell_type": "markdown",
      "metadata": {},
      "source": [
        "## Dataset\n",
        "\n",
        "### Overview\n",
        "Overview of the dataset :\n",
        "\n",
        "Cardiovascular disease are the number 1 cause of death globally, taking an estimated 18.9 million lives each year, which accounts for 41% of all deaths worldwide. Luckily, most cardiovascular disease can be prevented by addressing behavioral risk factors to population-wide strategies. This project is aiming to utilize Azure AutoML models to detect the most crucial features to predict the heart failure event."
      ]
    },
    {
      "cell_type": "code",
      "execution_count": 2,
      "metadata": {
        "gather": {
          "logged": 1649414855548
        },
        "jupyter": {
          "outputs_hidden": false,
          "source_hidden": false
        },
        "nteract": {
          "transient": {
            "deleting": false
          }
        }
      },
      "outputs": [
        {
          "name": "stderr",
          "output_type": "stream",
          "text": [
            "INFO:azureml.core.workspace:Found the config file in: /config.json\n",
            "INFO:azure.core.pipeline.policies.http_logging_policy:Request URL: 'https://management.azure.com/subscriptions?api-version=REDACTED'/nRequest method: 'GET'/nRequest headers:/n    'Accept': 'application/json'/n    'x-ms-client-request-id': '48615226-b729-11ec-a21b-875a02912147'/n    'User-Agent': 'azsdk-python-azure-mgmt-resource/20.1.0 Python/3.8.5 (Linux-5.4.0-1073-azure-x86_64-with-glibc2.10)'/n    'Authorization': 'REDACTED'/nNo body was attached to the request\n",
            "INFO:azure.core.pipeline.policies.http_logging_policy:Response status: 200/nResponse headers:/n    'Cache-Control': 'no-cache'/n    'Pragma': 'no-cache'/n    'Content-Type': 'application/json; charset=utf-8'/n    'Content-Encoding': 'REDACTED'/n    'Expires': '-1'/n    'Vary': 'REDACTED'/n    'x-ms-ratelimit-remaining-tenant-reads': '11999'/n    'x-ms-request-id': '39e5365e-d14e-4d99-988d-8b5dc5b98221'/n    'x-ms-correlation-request-id': 'REDACTED'/n    'x-ms-routing-request-id': 'REDACTED'/n    'Strict-Transport-Security': 'REDACTED'/n    'X-Content-Type-Options': 'REDACTED'/n    'Date': 'Fri, 08 Apr 2022 10:47:27 GMT'/n    'Content-Length': '433'\n",
            "INFO:azureml._restclient.clientbase:Created a worker pool for first use\n"
          ]
        },
        {
          "name": "stdout",
          "output_type": "stream",
          "text": [
            "Succeeded\n",
            "AmlCompute wait for completion finished\n",
            "\n",
            "Minimum number of nodes requested have been provisioned\n"
          ]
        },
        {
          "data": {
            "text/html": [
              "<div>\n",
              "<style scoped>\n",
              "    .dataframe tbody tr th:only-of-type {\n",
              "        vertical-align: middle;\n",
              "    }\n",
              "\n",
              "    .dataframe tbody tr th {\n",
              "        vertical-align: top;\n",
              "    }\n",
              "\n",
              "    .dataframe thead th {\n",
              "        text-align: right;\n",
              "    }\n",
              "</style>\n",
              "<table border=\"1\" class=\"dataframe\">\n",
              "  <thead>\n",
              "    <tr style=\"text-align: right;\">\n",
              "      <th></th>\n",
              "      <th>age</th>\n",
              "      <th>anaemia</th>\n",
              "      <th>creatinine_phosphokinase</th>\n",
              "      <th>diabetes</th>\n",
              "      <th>ejection_fraction</th>\n",
              "      <th>high_blood_pressure</th>\n",
              "      <th>platelets</th>\n",
              "      <th>serum_creatinine</th>\n",
              "      <th>serum_sodium</th>\n",
              "      <th>sex</th>\n",
              "      <th>smoking</th>\n",
              "      <th>time</th>\n",
              "      <th>DEATH_EVENT</th>\n",
              "    </tr>\n",
              "  </thead>\n",
              "  <tbody>\n",
              "    <tr>\n",
              "      <th>0</th>\n",
              "      <td>75</td>\n",
              "      <td>0</td>\n",
              "      <td>582</td>\n",
              "      <td>0</td>\n",
              "      <td>20</td>\n",
              "      <td>1</td>\n",
              "      <td>265000</td>\n",
              "      <td>1.9</td>\n",
              "      <td>130</td>\n",
              "      <td>1</td>\n",
              "      <td>0</td>\n",
              "      <td>4</td>\n",
              "      <td>1</td>\n",
              "    </tr>\n",
              "    <tr>\n",
              "      <th>1</th>\n",
              "      <td>55</td>\n",
              "      <td>0</td>\n",
              "      <td>7861</td>\n",
              "      <td>0</td>\n",
              "      <td>38</td>\n",
              "      <td>0</td>\n",
              "      <td>263358</td>\n",
              "      <td>1.1</td>\n",
              "      <td>136</td>\n",
              "      <td>1</td>\n",
              "      <td>0</td>\n",
              "      <td>6</td>\n",
              "      <td>1</td>\n",
              "    </tr>\n",
              "    <tr>\n",
              "      <th>2</th>\n",
              "      <td>65</td>\n",
              "      <td>0</td>\n",
              "      <td>146</td>\n",
              "      <td>0</td>\n",
              "      <td>20</td>\n",
              "      <td>0</td>\n",
              "      <td>162000</td>\n",
              "      <td>1.3</td>\n",
              "      <td>129</td>\n",
              "      <td>1</td>\n",
              "      <td>1</td>\n",
              "      <td>7</td>\n",
              "      <td>1</td>\n",
              "    </tr>\n",
              "    <tr>\n",
              "      <th>3</th>\n",
              "      <td>50</td>\n",
              "      <td>1</td>\n",
              "      <td>111</td>\n",
              "      <td>0</td>\n",
              "      <td>20</td>\n",
              "      <td>0</td>\n",
              "      <td>210000</td>\n",
              "      <td>1.9</td>\n",
              "      <td>137</td>\n",
              "      <td>1</td>\n",
              "      <td>0</td>\n",
              "      <td>7</td>\n",
              "      <td>1</td>\n",
              "    </tr>\n",
              "    <tr>\n",
              "      <th>4</th>\n",
              "      <td>65</td>\n",
              "      <td>1</td>\n",
              "      <td>160</td>\n",
              "      <td>1</td>\n",
              "      <td>20</td>\n",
              "      <td>0</td>\n",
              "      <td>327000</td>\n",
              "      <td>2.7</td>\n",
              "      <td>116</td>\n",
              "      <td>0</td>\n",
              "      <td>0</td>\n",
              "      <td>8</td>\n",
              "      <td>1</td>\n",
              "    </tr>\n",
              "  </tbody>\n",
              "</table>\n",
              "</div>"
            ],
            "text/plain": [
              "   age  anaemia  creatinine_phosphokinase  diabetes  ejection_fraction  \\\n",
              "0   75        0                       582         0                 20   \n",
              "1   55        0                      7861         0                 38   \n",
              "2   65        0                       146         0                 20   \n",
              "3   50        1                       111         0                 20   \n",
              "4   65        1                       160         1                 20   \n",
              "\n",
              "   high_blood_pressure  platelets  serum_creatinine  serum_sodium  sex  \\\n",
              "0                    1     265000               1.9           130    1   \n",
              "1                    0     263358               1.1           136    1   \n",
              "2                    0     162000               1.3           129    1   \n",
              "3                    0     210000               1.9           137    1   \n",
              "4                    0     327000               2.7           116    0   \n",
              "\n",
              "   smoking  time  DEATH_EVENT  \n",
              "0        0     4            1  \n",
              "1        0     6            1  \n",
              "2        1     7            1  \n",
              "3        0     7            1  \n",
              "4        0     8            1  "
            ]
          },
          "execution_count": 2,
          "metadata": {},
          "output_type": "execute_result"
        }
      ],
      "source": [
        "ws = Workspace.from_config()\n",
        "experiment_name = 'Final_Project_AutoML'\n",
        "\n",
        "experiment=Experiment(workspace=ws, name=experiment_name)\n",
        "\n",
        "# log data\n",
        "run = experiment.start_logging()\n",
        "\n",
        "# Use existing compute target.\n",
        "cluster_name = \"Final-Project-Compute\"\n",
        "compute_cluster = ComputeTarget(workspace=ws, name=cluster_name)\n",
        "compute_cluster.wait_for_completion(show_output=True)\n",
        "\n",
        "# Load the dataset from the Workspace.\n",
        "dataset_name = \"heart_failure_clinical_records\"\n",
        "dataSet = Dataset.get_by_name(ws, dataset_name)\n",
        "dataSet.take(5).to_pandas_dataframe()"
      ]
    },
    {
      "cell_type": "markdown",
      "metadata": {},
      "source": [
        "## AutoML Configuration\n",
        "\n",
        "write automl settings and cofiguration."
      ]
    },
    {
      "cell_type": "code",
      "execution_count": 3,
      "metadata": {
        "gather": {
          "logged": 1649414871721
        },
        "jupyter": {
          "outputs_hidden": false,
          "source_hidden": false
        },
        "nteract": {
          "transient": {
            "deleting": false
          }
        }
      },
      "outputs": [],
      "source": [
        "automl_settings = {\n",
        "       \"n_cross_validations\": 5,\n",
        "       \"primary_metric\": 'accuracy',\n",
        "       \"experiment_timeout_minutes\": 40,\n",
        "       \"verbosity\": logging.INFO,\n",
        "   }\n",
        "\n",
        "# Set parameters for AutoMLConfig\n",
        "automl_config = AutoMLConfig(compute_target=compute_cluster,\n",
        "                             task = \"classification\",\n",
        "                             training_data=dataSet,\n",
        "                             label_column_name=\"DEATH_EVENT\",\n",
        "                             validation_size=0.1,\n",
        "                             #path = project_folder,\n",
        "                             enable_early_stopping= True,\n",
        "                             featurization= 'auto',\n",
        "                             debug_log = \"automl_errors.log\",\n",
        "                             **automl_settings\n",
        "                            )"
      ]
    },
    {
      "cell_type": "code",
      "execution_count": 4,
      "metadata": {
        "gather": {
          "logged": 1649415949914
        },
        "jupyter": {
          "outputs_hidden": false,
          "source_hidden": false
        },
        "nteract": {
          "transient": {
            "deleting": false
          }
        }
      },
      "outputs": [
        {
          "name": "stdout",
          "output_type": "stream",
          "text": [
            "Submitting remote run.\n",
            "No run_configuration provided, running on Final-Project-Compute with default configuration\n",
            "Running on remote compute: Final-Project-Compute\n"
          ]
        },
        {
          "data": {
            "text/html": [
              "<table style=\"width:100%\"><tr><th>Experiment</th><th>Id</th><th>Type</th><th>Status</th><th>Details Page</th><th>Docs Page</th></tr><tr><td>Final_Project_AutoML</td><td>AutoML_a6879662-4ca6-4506-9af8-99bf07bc8090</td><td>automl</td><td>NotStarted</td><td><a href=\"https://ml.azure.com/runs/AutoML_a6879662-4ca6-4506-9af8-99bf07bc8090?wsid=/subscriptions/a0a76bad-11a1-4a2d-9887-97a29122c8ed/resourcegroups/aml-quickstarts-191366/workspaces/quick-starts-ws-191366&amp;tid=660b3398-b80e-49d2-bc5b-ac1dc93b5254\" target=\"_blank\" rel=\"noopener\">Link to Azure Machine Learning studio</a></td><td><a href=\"https://docs.microsoft.com/en-us/python/api/overview/azure/ml/intro?view=azure-ml-py\" target=\"_blank\" rel=\"noopener\">Link to Documentation</a></td></tr></table>"
            ],
            "text/plain": [
              "<IPython.core.display.HTML object>"
            ]
          },
          "metadata": {},
          "output_type": "display_data"
        },
        {
          "name": "stdout",
          "output_type": "stream",
          "text": [
            "\n",
            "Current status: FeaturesGeneration. Generating features for the dataset.\n",
            "Current status: ModelSelection. Beginning model selection.\n",
            "\n",
            "********************************************************************************************\n",
            "DATA GUARDRAILS: \n",
            "\n",
            "TYPE:         Class balancing detection\n",
            "STATUS:       PASSED\n",
            "DESCRIPTION:  Your inputs were analyzed, and all classes are balanced in your training data.\n",
            "              Learn more about imbalanced data: https://aka.ms/AutomatedMLImbalancedData\n",
            "\n",
            "********************************************************************************************\n",
            "\n",
            "TYPE:         Missing feature values imputation\n",
            "STATUS:       PASSED\n",
            "DESCRIPTION:  No feature missing values were detected in the training data.\n",
            "              Learn more about missing value imputation: https://aka.ms/AutomatedMLFeaturization\n",
            "\n",
            "********************************************************************************************\n",
            "\n",
            "TYPE:         High cardinality feature detection\n",
            "STATUS:       PASSED\n",
            "DESCRIPTION:  Your inputs were analyzed, and no high cardinality features were detected.\n",
            "              Learn more about high cardinality feature handling: https://aka.ms/AutomatedMLFeaturization\n",
            "\n",
            "********************************************************************************************\n",
            "\n",
            "********************************************************************************************\n",
            "ITER: The iteration being evaluated.\n",
            "PIPELINE: A summary description of the pipeline being evaluated.\n",
            "DURATION: Time taken for the current iteration.\n",
            "METRIC: The result of computing score on the fitted pipeline.\n",
            "BEST: The best observed score thus far.\n",
            "********************************************************************************************\n",
            "\n",
            " ITER   PIPELINE                                       DURATION            METRIC      BEST\n",
            "    0   MaxAbsScaler LightGBM                          0:00:18             0.7867    0.7867\n",
            "    1   MaxAbsScaler XGBoostClassifier                 0:00:14             0.8333    0.8333\n",
            "    2   MaxAbsScaler ExtremeRandomTrees                0:00:15             0.8200    0.8333\n",
            "    3   SparseNormalizer XGBoostClassifier             0:00:14             0.7667    0.8333\n",
            "    4   StandardScalerWrapper KNN                      0:00:14             0.6333    0.8333\n",
            "    5   MaxAbsScaler LightGBM                          0:00:14             0.8000    0.8333\n",
            "    6   RobustScaler LogisticRegression                0:00:14             0.8067    0.8333\n",
            "    7   MaxAbsScaler LightGBM                          0:00:13             0.7667    0.8333\n",
            "    8   StandardScalerWrapper KNN                      0:00:13             0.6000    0.8333\n",
            "    9   StandardScalerWrapper SVM                      0:00:14             0.7467    0.8333\n",
            "   10   StandardScalerWrapper XGBoostClassifier        0:00:14             0.8267    0.8333\n",
            "   11   MinMaxScaler RandomForest                      0:00:16             0.8333    0.8333\n",
            "   12   StandardScalerWrapper LogisticRegression       0:00:14             0.7467    0.8333\n",
            "   13   StandardScalerWrapper KNN                      0:00:13             0.6867    0.8333\n",
            "   14   RobustScaler KNN                               0:00:14             0.7267    0.8333\n",
            "   15   MinMaxScaler KNN                               0:00:14             0.7067    0.8333\n",
            "   16   SparseNormalizer KNN                           0:00:14             0.7133    0.8333\n",
            "   17   MaxAbsScaler LogisticRegression                0:00:19             0.8533    0.8533\n",
            "   18   StandardScalerWrapper XGBoostClassifier        0:00:14             0.8133    0.8533\n",
            "   19   StandardScalerWrapper XGBoostClassifier        0:00:14             0.8133    0.8533\n",
            "   20   MaxAbsScaler LogisticRegression                0:00:04             0.8467    0.8533\n",
            "   21   StandardScalerWrapper XGBoostClassifier        0:00:04             0.8133    0.8533\n",
            "   22   SparseNormalizer XGBoostClassifier             0:00:04             0.8000    0.8533\n",
            "   23   SparseNormalizer XGBoostClassifier             0:00:09             0.8267    0.8533\n",
            "   24   SparseNormalizer XGBoostClassifier             0:00:04             0.7933    0.8533\n",
            "   25   SparseNormalizer LogisticRegression            0:00:04             0.6600    0.8533\n",
            "   26   SparseNormalizer XGBoostClassifier             0:00:04             0.8333    0.8533\n",
            "   27   StandardScalerWrapper XGBoostClassifier        0:00:04             0.8267    0.8533\n",
            "   28   SparseNormalizer XGBoostClassifier             0:00:04             0.8067    0.8533\n",
            "   29   StandardScalerWrapper XGBoostClassifier        0:00:04             0.8400    0.8533\n",
            "   30    VotingEnsemble                                0:00:04             0.8533    0.8533\n",
            "   31    StackEnsemble                                 0:00:04             0.8333    0.8533\n"
          ]
        }
      ],
      "source": [
        "# Submit experiment\n",
        "automl_run = experiment.submit(automl_config, show_output=True)"
      ]
    },
    {
      "cell_type": "markdown",
      "metadata": {},
      "source": [
        "## Run Details\n",
        "\n",
        "use the `RunDetails` widget to show the different experiments."
      ]
    },
    {
      "cell_type": "code",
      "execution_count": 5,
      "metadata": {
        "gather": {
          "logged": 1649416392055
        },
        "jupyter": {
          "outputs_hidden": false,
          "source_hidden": false
        },
        "nteract": {
          "transient": {
            "deleting": false
          }
        }
      },
      "outputs": [
        {
          "name": "stderr",
          "output_type": "stream",
          "text": [
            "INFO:numexpr.utils:NumExpr defaulting to 4 threads.\n"
          ]
        },
        {
          "data": {
            "application/vnd.jupyter.widget-view+json": {
              "model_id": "b06266f78203452e86c881a9f595584e",
              "version_major": 2,
              "version_minor": 0
            },
            "text/plain": [
              "_AutoMLWidget(widget_settings={'childWidgetDisplay': 'popup', 'send_telemetry': False, 'log_level': 'INFO', 's…"
            ]
          },
          "metadata": {},
          "output_type": "display_data"
        },
        {
          "data": {
            "application/aml.mini.widget.v1": "{\"status\": \"Completed\", \"workbench_run_details_uri\": \"https://ml.azure.com/runs/AutoML_a6879662-4ca6-4506-9af8-99bf07bc8090?wsid=/subscriptions/a0a76bad-11a1-4a2d-9887-97a29122c8ed/resourcegroups/aml-quickstarts-191366/workspaces/quick-starts-ws-191366&tid=660b3398-b80e-49d2-bc5b-ac1dc93b5254\", \"run_id\": \"AutoML_a6879662-4ca6-4506-9af8-99bf07bc8090\", \"run_properties\": {\"run_id\": \"AutoML_a6879662-4ca6-4506-9af8-99bf07bc8090\", \"created_utc\": \"2022-04-08T10:47:59.189121Z\", \"properties\": {\"num_iterations\": \"1000\", \"training_type\": \"TrainFull\", \"acquisition_function\": \"EI\", \"primary_metric\": \"accuracy\", \"train_split\": \"0.1\", \"acquisition_parameter\": \"0\", \"num_cross_validation\": \"5\", \"target\": \"Final-Project-Compute\", \"AMLSettingsJsonString\": \"{\\\"path\\\":null,\\\"name\\\":\\\"Final_Project_AutoML\\\",\\\"subscription_id\\\":\\\"a0a76bad-11a1-4a2d-9887-97a29122c8ed\\\",\\\"resource_group\\\":\\\"aml-quickstarts-191366\\\",\\\"workspace_name\\\":\\\"quick-starts-ws-191366\\\",\\\"region\\\":\\\"southcentralus\\\",\\\"compute_target\\\":\\\"Final-Project-Compute\\\",\\\"spark_service\\\":null,\\\"azure_service\\\":\\\"remote\\\",\\\"many_models\\\":false,\\\"pipeline_fetch_max_batch_size\\\":1,\\\"enable_batch_run\\\":true,\\\"enable_run_restructure\\\":false,\\\"start_auxiliary_runs_before_parent_complete\\\":false,\\\"enable_code_generation\\\":false,\\\"iterations\\\":1000,\\\"primary_metric\\\":\\\"accuracy\\\",\\\"task_type\\\":\\\"classification\\\",\\\"positive_label\\\":null,\\\"data_script\\\":null,\\\"test_size\\\":0.0,\\\"test_include_predictions_only\\\":false,\\\"validation_size\\\":0.1,\\\"n_cross_validations\\\":5,\\\"y_min\\\":null,\\\"y_max\\\":null,\\\"num_classes\\\":null,\\\"featurization\\\":\\\"auto\\\",\\\"_ignore_package_version_incompatibilities\\\":false,\\\"is_timeseries\\\":false,\\\"max_cores_per_iteration\\\":1,\\\"max_concurrent_iterations\\\":1,\\\"iteration_timeout_minutes\\\":null,\\\"mem_in_mb\\\":null,\\\"enforce_time_on_windows\\\":false,\\\"experiment_timeout_minutes\\\":40,\\\"experiment_exit_score\\\":null,\\\"partition_column_names\\\":null,\\\"whitelist_models\\\":null,\\\"blacklist_algos\\\":[\\\"TensorFlowLinearClassifier\\\",\\\"TensorFlowDNN\\\"],\\\"supported_models\\\":[\\\"XGBoostClassifier\\\",\\\"ExtremeRandomTrees\\\",\\\"TabnetClassifier\\\",\\\"LogisticRegression\\\",\\\"LinearSVM\\\",\\\"SVM\\\",\\\"MultinomialNaiveBayes\\\",\\\"RandomForest\\\",\\\"LightGBM\\\",\\\"AveragedPerceptronClassifier\\\",\\\"GradientBoosting\\\",\\\"TensorFlowLinearClassifier\\\",\\\"SGD\\\",\\\"BernoulliNaiveBayes\\\",\\\"TensorFlowDNN\\\",\\\"DecisionTree\\\",\\\"KNN\\\"],\\\"private_models\\\":[],\\\"auto_blacklist\\\":true,\\\"blacklist_samples_reached\\\":false,\\\"exclude_nan_labels\\\":true,\\\"verbosity\\\":20,\\\"_debug_log\\\":\\\"azureml_automl.log\\\",\\\"show_warnings\\\":false,\\\"model_explainability\\\":true,\\\"service_url\\\":null,\\\"sdk_url\\\":null,\\\"sdk_packages\\\":null,\\\"enable_onnx_compatible_models\\\":false,\\\"enable_split_onnx_featurizer_estimator_models\\\":false,\\\"vm_type\\\":\\\"STANDARD_DS3_V2\\\",\\\"telemetry_verbosity\\\":20,\\\"send_telemetry\\\":true,\\\"enable_dnn\\\":false,\\\"scenario\\\":\\\"SDK-1.13.0\\\",\\\"environment_label\\\":null,\\\"save_mlflow\\\":false,\\\"enable_categorical_indicators\\\":false,\\\"force_text_dnn\\\":false,\\\"enable_feature_sweeping\\\":true,\\\"enable_early_stopping\\\":true,\\\"early_stopping_n_iters\\\":10,\\\"arguments\\\":null,\\\"dataset_id\\\":\\\"dab02e4b-b5a0-4f47-89ba-5817db9539ad\\\",\\\"hyperdrive_config\\\":null,\\\"validation_dataset_id\\\":null,\\\"run_source\\\":null,\\\"metrics\\\":null,\\\"enable_metric_confidence\\\":false,\\\"enable_ensembling\\\":true,\\\"enable_stack_ensembling\\\":true,\\\"ensemble_iterations\\\":15,\\\"enable_tf\\\":false,\\\"enable_subsampling\\\":null,\\\"subsample_seed\\\":null,\\\"enable_nimbusml\\\":false,\\\"enable_streaming\\\":false,\\\"force_streaming\\\":false,\\\"track_child_runs\\\":true,\\\"allowed_private_models\\\":[],\\\"label_column_name\\\":\\\"DEATH_EVENT\\\",\\\"weight_column_name\\\":null,\\\"cv_split_column_names\\\":null,\\\"enable_local_managed\\\":false,\\\"_local_managed_run_id\\\":null,\\\"cost_mode\\\":1,\\\"lag_length\\\":0,\\\"metric_operation\\\":\\\"maximize\\\",\\\"preprocess\\\":true}\", \"DataPrepJsonString\": \"{\\\\\\\"training_data\\\\\\\": {\\\\\\\"datasetId\\\\\\\": \\\\\\\"dab02e4b-b5a0-4f47-89ba-5817db9539ad\\\\\\\"}, \\\\\\\"datasets\\\\\\\": 0}\", \"EnableSubsampling\": null, \"runTemplate\": \"AutoML\", \"azureml.runsource\": \"automl\", \"display_task_type\": \"classification\", \"dependencies_versions\": \"{\\\"azureml-widgets\\\": \\\"1.39.0\\\", \\\"azureml-training-tabular\\\": \\\"1.39.0\\\", \\\"azureml-train\\\": \\\"1.39.0\\\", \\\"azureml-train-restclients-hyperdrive\\\": \\\"1.39.0\\\", \\\"azureml-train-core\\\": \\\"1.39.0\\\", \\\"azureml-train-automl\\\": \\\"1.39.0\\\", \\\"azureml-train-automl-runtime\\\": \\\"1.39.0\\\", \\\"azureml-train-automl-client\\\": \\\"1.39.0\\\", \\\"azureml-tensorboard\\\": \\\"1.39.0\\\", \\\"azureml-telemetry\\\": \\\"1.39.0\\\", \\\"azureml-sdk\\\": \\\"1.39.0\\\", \\\"azureml-samples\\\": \\\"0+unknown\\\", \\\"azureml-responsibleai\\\": \\\"1.39.0\\\", \\\"azureml-pipeline\\\": \\\"1.39.0\\\", \\\"azureml-pipeline-steps\\\": \\\"1.39.0\\\", \\\"azureml-pipeline-core\\\": \\\"1.39.0\\\", \\\"azureml-opendatasets\\\": \\\"1.39.0\\\", \\\"azureml-mlflow\\\": \\\"1.39.0\\\", \\\"azureml-interpret\\\": \\\"1.39.0\\\", \\\"azureml-inference-server-http\\\": \\\"0.4.10\\\", \\\"azureml-explain-model\\\": \\\"1.39.0\\\", \\\"azureml-defaults\\\": \\\"1.39.0\\\", \\\"azureml-dataset-runtime\\\": \\\"1.39.0\\\", \\\"azureml-dataprep\\\": \\\"2.27.1\\\", \\\"azureml-dataprep-rslex\\\": \\\"2.3.1\\\", \\\"azureml-dataprep-native\\\": \\\"38.0.0\\\", \\\"azureml-datadrift\\\": \\\"1.39.0\\\", \\\"azureml-core\\\": \\\"1.39.0\\\", \\\"azureml-contrib-services\\\": \\\"1.39.0\\\", \\\"azureml-contrib-server\\\": \\\"1.39.0\\\", \\\"azureml-contrib-reinforcementlearning\\\": \\\"1.39.0\\\", \\\"azureml-contrib-pipeline-steps\\\": \\\"1.39.0\\\", \\\"azureml-contrib-notebook\\\": \\\"1.39.0\\\", \\\"azureml-contrib-fairness\\\": \\\"1.39.0\\\", \\\"azureml-contrib-dataset\\\": \\\"1.39.0\\\", \\\"azureml-contrib-automl-pipeline-steps\\\": \\\"1.39.0\\\", \\\"azureml-cli-common\\\": \\\"1.39.0\\\", \\\"azureml-automl-runtime\\\": \\\"1.39.0\\\", \\\"azureml-automl-dnn-nlp\\\": \\\"1.39.0\\\", \\\"azureml-automl-core\\\": \\\"1.39.0\\\", \\\"azureml-accel-models\\\": \\\"1.39.0\\\"}\", \"_aml_system_scenario_identification\": \"Remote.Parent\", \"ClientType\": \"SDK\", \"environment_cpu_name\": \"AzureML-AutoML\", \"environment_cpu_label\": \"prod\", \"environment_gpu_name\": \"AzureML-AutoML-GPU\", \"environment_gpu_label\": \"prod\", \"root_attribution\": \"automl\", \"attribution\": \"AutoML\", \"Orchestrator\": \"AutoML\", \"CancelUri\": \"https://southcentralus.api.azureml.ms/jasmine/v1.0/subscriptions/a0a76bad-11a1-4a2d-9887-97a29122c8ed/resourceGroups/aml-quickstarts-191366/providers/Microsoft.MachineLearningServices/workspaces/quick-starts-ws-191366/experimentids/02ba03ef-4e67-4083-bb62-42d3b178ba2a/cancel/AutoML_a6879662-4ca6-4506-9af8-99bf07bc8090\", \"ClientSdkVersion\": \"1.39.1\", \"snapshotId\": \"00000000-0000-0000-0000-000000000000\", \"SetupRunId\": \"AutoML_a6879662-4ca6-4506-9af8-99bf07bc8090_setup\", \"SetupRunContainerId\": \"dcid.AutoML_a6879662-4ca6-4506-9af8-99bf07bc8090_setup\", \"FeaturizationRunJsonPath\": \"featurizer_container.json\", \"FeaturizationRunId\": \"AutoML_a6879662-4ca6-4506-9af8-99bf07bc8090_featurize\", \"ProblemInfoJsonString\": \"{\\\"dataset_num_categorical\\\": 0, \\\"is_sparse\\\": false, \\\"subsampling\\\": false, \\\"has_extra_col\\\": true, \\\"dataset_classes\\\": 2, \\\"dataset_features\\\": 12, \\\"dataset_samples\\\": 299, \\\"single_frequency_class_detected\\\": false}\", \"ModelExplainRunId\": \"AutoML_a6879662-4ca6-4506-9af8-99bf07bc8090_ModelExplain\"}, \"tags\": {\"model_explain_run\": \"best_run\", \"_aml_system_automl_run_workspace_id\": \"cc301138-426f-4fe5-9164-6ee18397bcc8\", \"_aml_system_azureml.automlComponent\": \"AutoML\", \"pipeline_id\": \"\", \"score\": \"\", \"predicted_cost\": \"\", \"fit_time\": \"\", \"training_percent\": \"\", \"iteration\": \"\", \"run_preprocessor\": \"\", \"run_algorithm\": \"\", \"dynamic_whitelisting_iterations\": \"<25>;\", \"_aml_system_azureml.automl_early_exit_message\": \"No scores improved over last 20 iterations, so experiment stopped early. This early stopping behavior can be disabled by setting enable_early_stopping = False in AutoMLConfig for notebook/python SDK runs.\", \"automl_best_child_run_id\": \"AutoML_a6879662-4ca6-4506-9af8-99bf07bc8090_17\", \"model_explain_best_run_child_id\": \"AutoML_a6879662-4ca6-4506-9af8-99bf07bc8090_17\"}, \"end_time_utc\": \"2022-04-08T11:05:27.427849Z\", \"status\": \"Completed\", \"log_files\": {}, \"log_groups\": [], \"run_duration\": \"0:17:28\", \"run_number\": \"1649414879\", \"run_queued_details\": {\"status\": \"Completed\", \"details\": null}}, \"child_runs\": [{\"run_id\": \"AutoML_a6879662-4ca6-4506-9af8-99bf07bc8090_setup\", \"run_number\": 1649414890, \"metric\": null, \"status\": \"Completed\", \"run_type\": \"azureml.scriptrun\", \"training_percent\": null, \"start_time\": \"2022-04-08T10:48:45.696935Z\", \"end_time\": \"2022-04-08T10:48:49.251547Z\", \"created_time\": \"2022-04-08T10:48:10.826936Z\", \"created_time_dt\": \"2022-04-08T10:48:10.826936Z\", \"duration\": \"0:00:38\", \"iteration\": null, \"goal\": null, \"run_name\": \"Completed\", \"run_properties\": null}, {\"run_id\": \"AutoML_a6879662-4ca6-4506-9af8-99bf07bc8090_featurize\", \"run_number\": 1649414929, \"metric\": null, \"status\": \"Completed\", \"run_type\": \"automl.featurization\", \"training_percent\": null, \"start_time\": \"2022-04-08T10:48:49.883455Z\", \"end_time\": \"2022-04-08T10:49:20.759518Z\", \"created_time\": \"2022-04-08T10:48:49.593565Z\", \"created_time_dt\": \"2022-04-08T10:48:49.593565Z\", \"duration\": \"0:00:31\", \"iteration\": null, \"goal\": null, \"run_name\": \"Completed\", \"run_properties\": null}, {\"run_id\": \"AutoML_a6879662-4ca6-4506-9af8-99bf07bc8090_0\", \"run_number\": 1649414962, \"metric\": null, \"status\": \"Completed\", \"run_type\": null, \"training_percent\": \"100\", \"start_time\": \"2022-04-08T10:49:42.127391Z\", \"end_time\": \"2022-04-08T10:50:00.131691Z\", \"created_time\": \"2022-04-08T10:49:22.042316Z\", \"created_time_dt\": \"2022-04-08T10:49:22.042316Z\", \"duration\": \"0:00:38\", \"iteration\": \"0\", \"goal\": \"accuracy_max\", \"run_name\": \"MaxAbsScaler, LightGBM\", \"run_properties\": \"copy=True\", \"primary_metric\": 0.78666667, \"best_metric\": 0.78666667}, {\"run_id\": \"AutoML_a6879662-4ca6-4506-9af8-99bf07bc8090_3\", \"run_number\": 1649414963, \"metric\": null, \"status\": \"Completed\", \"run_type\": null, \"training_percent\": \"100\", \"start_time\": \"2022-04-08T10:50:29.216363Z\", \"end_time\": \"2022-04-08T10:50:42.77606Z\", \"created_time\": \"2022-04-08T10:49:23.360331Z\", \"created_time_dt\": \"2022-04-08T10:49:23.360331Z\", \"duration\": \"0:01:19\", \"iteration\": \"3\", \"goal\": \"accuracy_max\", \"run_name\": \"SparseNormalizer, XGBoostClassifier\", \"run_properties\": \"copy=True, norm='l2'\", \"primary_metric\": 0.76666667, \"best_metric\": 0.78666667}, {\"run_id\": \"AutoML_a6879662-4ca6-4506-9af8-99bf07bc8090_5\", \"run_number\": 1649414964, \"metric\": null, \"status\": \"Completed\", \"run_type\": null, \"training_percent\": \"100\", \"start_time\": \"2022-04-08T10:50:56.735984Z\", \"end_time\": \"2022-04-08T10:51:10.486618Z\", \"created_time\": \"2022-04-08T10:49:24.217807Z\", \"created_time_dt\": \"2022-04-08T10:49:24.217807Z\", \"duration\": \"0:01:46\", \"iteration\": \"5\", \"goal\": \"accuracy_max\", \"run_name\": \"MaxAbsScaler, LightGBM\", \"run_properties\": \"copy=True\", \"primary_metric\": 0.8, \"best_metric\": 0.8}, {\"run_id\": \"AutoML_a6879662-4ca6-4506-9af8-99bf07bc8090_7\", \"run_number\": 1649414965, \"metric\": null, \"status\": \"Completed\", \"run_type\": null, \"training_percent\": \"100\", \"start_time\": \"2022-04-08T10:51:24.510195Z\", \"end_time\": \"2022-04-08T10:51:37.959359Z\", \"created_time\": \"2022-04-08T10:49:25.075749Z\", \"created_time_dt\": \"2022-04-08T10:49:25.075749Z\", \"duration\": \"0:02:12\", \"iteration\": \"7\", \"goal\": \"accuracy_max\", \"run_name\": \"MaxAbsScaler, LightGBM\", \"run_properties\": \"copy=True\", \"primary_metric\": 0.76666667, \"best_metric\": 0.8}, {\"run_id\": \"AutoML_a6879662-4ca6-4506-9af8-99bf07bc8090_10\", \"run_number\": 1649414966, \"metric\": null, \"status\": \"Completed\", \"run_type\": null, \"training_percent\": \"100\", \"start_time\": \"2022-04-08T10:52:05.632302Z\", \"end_time\": \"2022-04-08T10:52:19.60848Z\", \"created_time\": \"2022-04-08T10:49:26.338742Z\", \"created_time_dt\": \"2022-04-08T10:49:26.338742Z\", \"duration\": \"0:02:53\", \"iteration\": \"10\", \"goal\": \"accuracy_max\", \"run_name\": \"StandardScalerWrapper, XGBoostClassifier\", \"run_properties\": \"copy=True, with_mean=False, with_std=False\", \"primary_metric\": 0.82666667, \"best_metric\": 0.82666667}, {\"run_id\": \"AutoML_a6879662-4ca6-4506-9af8-99bf07bc8090_12\", \"run_number\": 1649414967, \"metric\": null, \"status\": \"Completed\", \"run_type\": null, \"training_percent\": \"100\", \"start_time\": \"2022-04-08T10:52:35.732632Z\", \"end_time\": \"2022-04-08T10:52:49.365384Z\", \"created_time\": \"2022-04-08T10:49:27.241245Z\", \"created_time_dt\": \"2022-04-08T10:49:27.241245Z\", \"duration\": \"0:03:22\", \"iteration\": \"12\", \"goal\": \"accuracy_max\", \"run_name\": \"StandardScalerWrapper, LogisticRegression\", \"run_properties\": \"copy=True, with_mean=True, with_std=False\", \"primary_metric\": 0.74666667, \"best_metric\": 0.82666667}, {\"run_id\": \"AutoML_a6879662-4ca6-4506-9af8-99bf07bc8090_14\", \"run_number\": 1649414968, \"metric\": null, \"status\": \"Completed\", \"run_type\": null, \"training_percent\": \"100\", \"start_time\": \"2022-04-08T10:53:03.289382Z\", \"end_time\": \"2022-04-08T10:53:16.951769Z\", \"created_time\": \"2022-04-08T10:49:28.05857Z\", \"created_time_dt\": \"2022-04-08T10:49:28.05857Z\", \"duration\": \"0:03:48\", \"iteration\": \"14\", \"goal\": \"accuracy_max\", \"run_name\": \"RobustScaler, KNN\", \"run_properties\": \"copy=True, quantile_range=[10, 90], with_centering=False,\\n             with_scaling=True\", \"primary_metric\": 0.72666667, \"best_metric\": 0.82666667}, {\"run_id\": \"AutoML_a6879662-4ca6-4506-9af8-99bf07bc8090_17\", \"run_number\": 1649414970, \"metric\": null, \"status\": \"Completed\", \"run_type\": null, \"training_percent\": \"100\", \"start_time\": \"2022-04-08T10:53:45.023501Z\", \"end_time\": \"2022-04-08T10:54:03.851987Z\", \"created_time\": \"2022-04-08T10:49:30.264394Z\", \"created_time_dt\": \"2022-04-08T10:49:30.264394Z\", \"duration\": \"0:04:33\", \"iteration\": \"17\", \"goal\": \"accuracy_max\", \"run_name\": \"MaxAbsScaler, LogisticRegression\", \"run_properties\": \"copy=True\", \"primary_metric\": 0.85333333, \"best_metric\": 0.85333333}, {\"run_id\": \"AutoML_a6879662-4ca6-4506-9af8-99bf07bc8090_worker_0\", \"run_number\": 1649414971, \"metric\": null, \"status\": \"Completed\", \"run_type\": \"azureml.scriptrun\", \"training_percent\": null, \"start_time\": \"2022-04-08T10:51:34.552249Z\", \"end_time\": \"2022-04-08T10:54:37.856411Z\", \"created_time\": \"2022-04-08T10:49:31.42897Z\", \"created_time_dt\": \"2022-04-08T10:49:31.42897Z\", \"duration\": \"0:05:06\", \"iteration\": null, \"goal\": null, \"run_name\": \"Completed\", \"run_properties\": null}, {\"run_id\": \"AutoML_a6879662-4ca6-4506-9af8-99bf07bc8090_20\", \"run_number\": 1649415487, \"metric\": null, \"status\": \"Completed\", \"run_type\": \"azureml.scriptrun\", \"training_percent\": \"100\", \"start_time\": \"2022-04-08T10:58:40.850403Z\", \"end_time\": \"2022-04-08T10:58:44.426179Z\", \"created_time\": \"2022-04-08T10:58:07.783007Z\", \"created_time_dt\": \"2022-04-08T10:58:07.783007Z\", \"duration\": \"0:00:36\", \"iteration\": \"20\", \"goal\": \"accuracy_max\", \"run_name\": \"MaxAbsScaler, LogisticRegression\", \"run_properties\": \"copy=True\", \"primary_metric\": 0.84666667, \"best_metric\": 0.85333333}, {\"run_id\": \"AutoML_a6879662-4ca6-4506-9af8-99bf07bc8090_21\", \"run_number\": 1649415526, \"metric\": null, \"status\": \"Completed\", \"run_type\": \"azureml.scriptrun\", \"training_percent\": \"100\", \"start_time\": \"2022-04-08T10:59:10.815817Z\", \"end_time\": \"2022-04-08T10:59:14.356323Z\", \"created_time\": \"2022-04-08T10:58:46.24488Z\", \"created_time_dt\": \"2022-04-08T10:58:46.24488Z\", \"duration\": \"0:00:28\", \"iteration\": \"21\", \"goal\": \"accuracy_max\", \"run_name\": \"StandardScalerWrapper, XGBoostClassifier\", \"run_properties\": \"copy=True, with_mean=False, with_std=False\", \"primary_metric\": 0.81333333, \"best_metric\": 0.85333333}, {\"run_id\": \"AutoML_a6879662-4ca6-4506-9af8-99bf07bc8090_22\", \"run_number\": 1649415556, \"metric\": null, \"status\": \"Completed\", \"run_type\": \"azureml.scriptrun\", \"training_percent\": \"100\", \"start_time\": \"2022-04-08T10:59:41.932085Z\", \"end_time\": \"2022-04-08T10:59:45.550461Z\", \"created_time\": \"2022-04-08T10:59:16.009132Z\", \"created_time_dt\": \"2022-04-08T10:59:16.009132Z\", \"duration\": \"0:00:29\", \"iteration\": \"22\", \"goal\": \"accuracy_max\", \"run_name\": \"SparseNormalizer, XGBoostClassifier\", \"run_properties\": \"copy=True, norm='l1'\", \"primary_metric\": 0.8, \"best_metric\": 0.85333333}, {\"run_id\": \"AutoML_a6879662-4ca6-4506-9af8-99bf07bc8090_23\", \"run_number\": 1649415587, \"metric\": null, \"status\": \"Completed\", \"run_type\": \"azureml.scriptrun\", \"training_percent\": \"100\", \"start_time\": \"2022-04-08T11:00:15.524301Z\", \"end_time\": \"2022-04-08T11:00:24.126748Z\", \"created_time\": \"2022-04-08T10:59:47.199384Z\", \"created_time_dt\": \"2022-04-08T10:59:47.199384Z\", \"duration\": \"0:00:36\", \"iteration\": \"23\", \"goal\": \"accuracy_max\", \"run_name\": \"SparseNormalizer, XGBoostClassifier\", \"run_properties\": \"copy=True, norm='max'\", \"primary_metric\": 0.82666667, \"best_metric\": 0.85333333}, {\"run_id\": \"AutoML_a6879662-4ca6-4506-9af8-99bf07bc8090_24\", \"run_number\": 1649415625, \"metric\": null, \"status\": \"Completed\", \"run_type\": \"azureml.scriptrun\", \"training_percent\": \"100\", \"start_time\": \"2022-04-08T11:00:53.704708Z\", \"end_time\": \"2022-04-08T11:00:57.355303Z\", \"created_time\": \"2022-04-08T11:00:25.751982Z\", \"created_time_dt\": \"2022-04-08T11:00:25.751982Z\", \"duration\": \"0:00:31\", \"iteration\": \"24\", \"goal\": \"accuracy_max\", \"run_name\": \"SparseNormalizer, XGBoostClassifier\", \"run_properties\": \"copy=True, norm='l1'\", \"primary_metric\": 0.79333333, \"best_metric\": 0.85333333}, {\"run_id\": \"AutoML_a6879662-4ca6-4506-9af8-99bf07bc8090_25\", \"run_number\": 1649415660, \"metric\": null, \"status\": \"Completed\", \"run_type\": \"azureml.scriptrun\", \"training_percent\": \"100\", \"start_time\": \"2022-04-08T11:01:28.515528Z\", \"end_time\": \"2022-04-08T11:01:32.1836Z\", \"created_time\": \"2022-04-08T11:01:00.378585Z\", \"created_time_dt\": \"2022-04-08T11:01:00.378585Z\", \"duration\": \"0:00:31\", \"iteration\": \"25\", \"goal\": \"accuracy_max\", \"run_name\": \"SparseNormalizer, LogisticRegression\", \"run_properties\": \"copy=True, norm='l1'\", \"primary_metric\": 0.66, \"best_metric\": 0.85333333}, {\"run_id\": \"AutoML_a6879662-4ca6-4506-9af8-99bf07bc8090_26\", \"run_number\": 1649415693, \"metric\": null, \"status\": \"Completed\", \"run_type\": \"azureml.scriptrun\", \"training_percent\": \"100\", \"start_time\": \"2022-04-08T11:02:01.455873Z\", \"end_time\": \"2022-04-08T11:02:05.150127Z\", \"created_time\": \"2022-04-08T11:01:33.79379Z\", \"created_time_dt\": \"2022-04-08T11:01:33.79379Z\", \"duration\": \"0:00:31\", \"iteration\": \"26\", \"goal\": \"accuracy_max\", \"run_name\": \"SparseNormalizer, XGBoostClassifier\", \"run_properties\": \"copy=True, norm='l2'\", \"primary_metric\": 0.83333333, \"best_metric\": 0.85333333}, {\"run_id\": \"AutoML_a6879662-4ca6-4506-9af8-99bf07bc8090_27\", \"run_number\": 1649415726, \"metric\": null, \"status\": \"Completed\", \"run_type\": \"azureml.scriptrun\", \"training_percent\": \"100\", \"start_time\": \"2022-04-08T11:02:35.661164Z\", \"end_time\": \"2022-04-08T11:02:39.328054Z\", \"created_time\": \"2022-04-08T11:02:06.867121Z\", \"created_time_dt\": \"2022-04-08T11:02:06.867121Z\", \"duration\": \"0:00:32\", \"iteration\": \"27\", \"goal\": \"accuracy_max\", \"run_name\": \"StandardScalerWrapper, XGBoostClassifier\", \"run_properties\": \"copy=True, with_mean=False, with_std=False\", \"primary_metric\": 0.82666667, \"best_metric\": 0.85333333}, {\"run_id\": \"AutoML_a6879662-4ca6-4506-9af8-99bf07bc8090_28\", \"run_number\": 1649415760, \"metric\": null, \"status\": \"Completed\", \"run_type\": \"azureml.scriptrun\", \"training_percent\": \"100\", \"start_time\": \"2022-04-08T11:03:10.541167Z\", \"end_time\": \"2022-04-08T11:03:14.241412Z\", \"created_time\": \"2022-04-08T11:02:40.854915Z\", \"created_time_dt\": \"2022-04-08T11:02:40.854915Z\", \"duration\": \"0:00:33\", \"iteration\": \"28\", \"goal\": \"accuracy_max\", \"run_name\": \"SparseNormalizer, XGBoostClassifier\", \"run_properties\": \"copy=True, norm='l2'\", \"primary_metric\": 0.80666667, \"best_metric\": 0.85333333}, {\"run_id\": \"AutoML_a6879662-4ca6-4506-9af8-99bf07bc8090_29\", \"run_number\": 1649415795, \"metric\": null, \"status\": \"Completed\", \"run_type\": \"azureml.scriptrun\", \"training_percent\": \"100\", \"start_time\": \"2022-04-08T11:03:48.163808Z\", \"end_time\": \"2022-04-08T11:03:51.814699Z\", \"created_time\": \"2022-04-08T11:03:15.892145Z\", \"created_time_dt\": \"2022-04-08T11:03:15.892145Z\", \"duration\": \"0:00:35\", \"iteration\": \"29\", \"goal\": \"accuracy_max\", \"run_name\": \"StandardScalerWrapper, XGBoostClassifier\", \"run_properties\": \"copy=True, with_mean=False, with_std=False\", \"primary_metric\": 0.84, \"best_metric\": 0.85333333}, {\"run_id\": \"AutoML_a6879662-4ca6-4506-9af8-99bf07bc8090_30\", \"run_number\": 1649415832, \"metric\": null, \"status\": \"Completed\", \"run_type\": \"azureml.scriptrun\", \"training_percent\": \"100\", \"start_time\": \"2022-04-08T11:04:34.012936Z\", \"end_time\": \"2022-04-08T11:04:37.593859Z\", \"created_time\": \"2022-04-08T11:03:52.434769Z\", \"created_time_dt\": \"2022-04-08T11:03:52.434769Z\", \"duration\": \"0:00:45\", \"iteration\": \"30\", \"goal\": \"accuracy_max\", \"run_name\": \"VotingEnsemble\", \"run_properties\": \"classification_labels=array([0, 1]\", \"primary_metric\": 0.85333333, \"best_metric\": 0.85333333}, {\"run_id\": \"AutoML_a6879662-4ca6-4506-9af8-99bf07bc8090_31\", \"run_number\": 1649415878, \"metric\": null, \"status\": \"Completed\", \"run_type\": \"azureml.scriptrun\", \"training_percent\": \"100\", \"start_time\": \"2022-04-08T11:05:22.522984Z\", \"end_time\": \"2022-04-08T11:05:26.104194Z\", \"created_time\": \"2022-04-08T11:04:38.160117Z\", \"created_time_dt\": \"2022-04-08T11:04:38.160117Z\", \"duration\": \"0:00:47\", \"iteration\": \"31\", \"goal\": \"accuracy_max\", \"run_name\": \"StackEnsemble\", \"run_properties\": \"base_learners=[('17', Pipeline(memory=None, steps=[('maxabsscaler', MaxAbsScaler(copy=True\", \"primary_metric\": 0.83333333, \"best_metric\": 0.85333333}], \"children_metrics\": {\"categories\": [0], \"series\": {\"recall_score_micro\": [{\"categories\": [\"0\", \"3\", \"5\", \"7\", \"10\", \"12\", \"14\", \"17\", \"20\", \"21\", \"22\", \"23\", \"24\", \"25\", \"26\", \"27\", \"28\", \"29\", \"30\", \"31\"], \"mode\": \"markers\", \"name\": \"recall_score_micro\", \"stepped\": false, \"type\": \"scatter\", \"data\": [0.7866666666666667, 0.7666666666666666, 0.8, 0.7666666666666667, 0.8266666666666668, 0.7466666666666667, 0.7266666666666668, 0.8533333333333335, 0.8466666666666667, 0.8133333333333332, 0.8, 0.8266666666666668, 0.7933333333333333, 0.6599999999999999, 0.8333333333333334, 0.8266666666666665, 0.8066666666666666, 0.8400000000000001, 0.8533333333333333, 0.8333333333333334]}, {\"categories\": [\"0\", \"3\", \"5\", \"7\", \"10\", \"12\", \"14\", \"17\", \"20\", \"21\", \"22\", \"23\", \"24\", \"25\", \"26\", \"27\", \"28\", \"29\", \"30\", \"31\"], \"mode\": \"lines\", \"name\": \"recall_score_micro_max\", \"stepped\": true, \"type\": \"scatter\", \"data\": [0.7866666666666667, 0.7866666666666667, 0.8, 0.8, 0.8266666666666668, 0.8266666666666668, 0.8266666666666668, 0.8533333333333335, 0.8533333333333335, 0.8533333333333335, 0.8533333333333335, 0.8533333333333335, 0.8533333333333335, 0.8533333333333335, 0.8533333333333335, 0.8533333333333335, 0.8533333333333335, 0.8533333333333335, 0.8533333333333335, 0.8533333333333335]}], \"norm_macro_recall\": [{\"categories\": [\"0\", \"3\", \"5\", \"7\", \"10\", \"12\", \"14\", \"17\", \"20\", \"21\", \"22\", \"23\", \"24\", \"25\", \"26\", \"27\", \"28\", \"29\", \"30\", \"31\"], \"mode\": \"markers\", \"name\": \"norm_macro_recall\", \"stepped\": false, \"type\": \"scatter\", \"data\": [0.457936507936508, 0.40555555555555556, 0.5079365079365079, 0.37301587301587297, 0.5619047619047619, 0.4992063492063492, 0.27619047619047615, 0.6158730158730158, 0.6063492063492063, 0.5484126984126985, 0.503968253968254, 0.569047619047619, 0.46904761904761905, 0.0, 0.569047619047619, 0.5746031746031746, 0.5023809523809524, 0.6261904761904761, 0.6174603174603175, 0.5984126984126984]}, {\"categories\": [\"0\", \"3\", \"5\", \"7\", \"10\", \"12\", \"14\", \"17\", \"20\", \"21\", \"22\", \"23\", \"24\", \"25\", \"26\", \"27\", \"28\", \"29\", \"30\", \"31\"], \"mode\": \"lines\", \"name\": \"norm_macro_recall_max\", \"stepped\": true, \"type\": \"scatter\", \"data\": [0.457936507936508, 0.457936507936508, 0.5079365079365079, 0.5079365079365079, 0.5619047619047619, 0.5619047619047619, 0.5619047619047619, 0.6158730158730158, 0.6158730158730158, 0.6158730158730158, 0.6158730158730158, 0.6158730158730158, 0.6158730158730158, 0.6158730158730158, 0.6158730158730158, 0.6158730158730158, 0.6158730158730158, 0.6261904761904761, 0.6261904761904761, 0.6261904761904761]}], \"weighted_accuracy\": [{\"categories\": [\"0\", \"3\", \"5\", \"7\", \"10\", \"12\", \"14\", \"17\", \"20\", \"21\", \"22\", \"23\", \"24\", \"25\", \"26\", \"27\", \"28\", \"29\", \"30\", \"31\"], \"mode\": \"markers\", \"name\": \"weighted_accuracy\", \"stepped\": false, \"type\": \"scatter\", \"data\": [0.8312113174182139, 0.8185676392572944, 0.8364279398762158, 0.8297966401414676, 0.8633068081343941, 0.7450928381962865, 0.7956675508399645, 0.8893015030946065, 0.8812555260831122, 0.8446507515473032, 0.8386383731211318, 0.8612732095490715, 0.8406719717064544, 0.7838196286472148, 0.8723253757736515, 0.8587091069849689, 0.8518125552608311, 0.8618037135278515, 0.88894783377542, 0.860919540229885]}, {\"categories\": [\"0\", \"3\", \"5\", \"7\", \"10\", \"12\", \"14\", \"17\", \"20\", \"21\", \"22\", \"23\", \"24\", \"25\", \"26\", \"27\", \"28\", \"29\", \"30\", \"31\"], \"mode\": \"lines\", \"name\": \"weighted_accuracy_max\", \"stepped\": true, \"type\": \"scatter\", \"data\": [0.8312113174182139, 0.8312113174182139, 0.8364279398762158, 0.8364279398762158, 0.8633068081343941, 0.8633068081343941, 0.8633068081343941, 0.8893015030946065, 0.8893015030946065, 0.8893015030946065, 0.8893015030946065, 0.8893015030946065, 0.8893015030946065, 0.8893015030946065, 0.8893015030946065, 0.8893015030946065, 0.8893015030946065, 0.8893015030946065, 0.8893015030946065, 0.8893015030946065]}], \"AUC_macro\": [{\"categories\": [\"0\", \"3\", \"5\", \"7\", \"10\", \"12\", \"14\", \"17\", \"20\", \"21\", \"22\", \"23\", \"24\", \"25\", \"26\", \"27\", \"28\", \"29\", \"30\", \"31\"], \"mode\": \"markers\", \"name\": \"AUC_macro\", \"stepped\": false, \"type\": \"scatter\", \"data\": [0.8842592592592592, 0.8362433862433862, 0.8825396825396826, 0.887962962962963, 0.880952380952381, 0.8857142857142856, 0.7333994708994709, 0.878968253968254, 0.8886243386243386, 0.9149470899470898, 0.8972222222222221, 0.8966931216931219, 0.9025132275132275, 0.5205026455026456, 0.9082010582010582, 0.881084656084656, 0.9017195767195767, 0.9006613756613758, 0.9006613756613756, 0.894047619047619]}, {\"categories\": [\"0\", \"3\", \"5\", \"7\", \"10\", \"12\", \"14\", \"17\", \"20\", \"21\", \"22\", \"23\", \"24\", \"25\", \"26\", \"27\", \"28\", \"29\", \"30\", \"31\"], \"mode\": \"lines\", \"name\": \"AUC_macro_max\", \"stepped\": true, \"type\": \"scatter\", \"data\": [0.8842592592592592, 0.8842592592592592, 0.8842592592592592, 0.887962962962963, 0.887962962962963, 0.887962962962963, 0.887962962962963, 0.887962962962963, 0.8886243386243386, 0.9149470899470898, 0.9149470899470898, 0.9149470899470898, 0.9149470899470898, 0.9149470899470898, 0.9149470899470898, 0.9149470899470898, 0.9149470899470898, 0.9149470899470898, 0.9149470899470898, 0.9149470899470898]}], \"f1_score_weighted\": [{\"categories\": [\"0\", \"3\", \"5\", \"7\", \"10\", \"12\", \"14\", \"17\", \"20\", \"21\", \"22\", \"23\", \"24\", \"25\", \"26\", \"27\", \"28\", \"29\", \"30\", \"31\"], \"mode\": \"markers\", \"name\": \"f1_score_weighted\", \"stepped\": false, \"type\": \"scatter\", \"data\": [0.7765884843298194, 0.7418474384590374, 0.7916859567016692, 0.7400487912930501, 0.8174991224460448, 0.7526309199572356, 0.6947614914016619, 0.8464233718325376, 0.8400294324385982, 0.8073144588576875, 0.788121346136639, 0.8167171717171717, 0.7762415882491122, 0.5258823529411764, 0.8243553474568721, 0.817923128692259, 0.7893202890740512, 0.837161185956632, 0.8466173656863518, 0.8289776561787505]}, {\"categories\": [\"0\", \"3\", \"5\", \"7\", \"10\", \"12\", \"14\", \"17\", \"20\", \"21\", \"22\", \"23\", \"24\", \"25\", \"26\", \"27\", \"28\", \"29\", \"30\", \"31\"], \"mode\": \"lines\", \"name\": \"f1_score_weighted_max\", \"stepped\": true, \"type\": \"scatter\", \"data\": [0.7765884843298194, 0.7765884843298194, 0.7916859567016692, 0.7916859567016692, 0.8174991224460448, 0.8174991224460448, 0.8174991224460448, 0.8464233718325376, 0.8464233718325376, 0.8464233718325376, 0.8464233718325376, 0.8464233718325376, 0.8464233718325376, 0.8464233718325376, 0.8464233718325376, 0.8464233718325376, 0.8464233718325376, 0.8464233718325376, 0.8466173656863518, 0.8466173656863518]}], \"accuracy\": [{\"categories\": [\"0\", \"3\", \"5\", \"7\", \"10\", \"12\", \"14\", \"17\", \"20\", \"21\", \"22\", \"23\", \"24\", \"25\", \"26\", \"27\", \"28\", \"29\", \"30\", \"31\"], \"mode\": \"markers\", \"name\": \"accuracy\", \"stepped\": false, \"type\": \"scatter\", \"data\": [0.7866666666666667, 0.7666666666666666, 0.8, 0.7666666666666667, 0.8266666666666668, 0.7466666666666667, 0.7266666666666668, 0.8533333333333335, 0.8466666666666667, 0.8133333333333332, 0.8, 0.8266666666666668, 0.7933333333333333, 0.6599999999999999, 0.8333333333333334, 0.8266666666666665, 0.8066666666666666, 0.8400000000000001, 0.8533333333333333, 0.8333333333333334]}, {\"categories\": [\"0\", \"3\", \"5\", \"7\", \"10\", \"12\", \"14\", \"17\", \"20\", \"21\", \"22\", \"23\", \"24\", \"25\", \"26\", \"27\", \"28\", \"29\", \"30\", \"31\"], \"mode\": \"lines\", \"name\": \"accuracy_max\", \"stepped\": true, \"type\": \"scatter\", \"data\": [0.7866666666666667, 0.7866666666666667, 0.8, 0.8, 0.8266666666666668, 0.8266666666666668, 0.8266666666666668, 0.8533333333333335, 0.8533333333333335, 0.8533333333333335, 0.8533333333333335, 0.8533333333333335, 0.8533333333333335, 0.8533333333333335, 0.8533333333333335, 0.8533333333333335, 0.8533333333333335, 0.8533333333333335, 0.8533333333333335, 0.8533333333333335]}], \"recall_score_macro\": [{\"categories\": [\"0\", \"3\", \"5\", \"7\", \"10\", \"12\", \"14\", \"17\", \"20\", \"21\", \"22\", \"23\", \"24\", \"25\", \"26\", \"27\", \"28\", \"29\", \"30\", \"31\"], \"mode\": \"markers\", \"name\": \"recall_score_macro\", \"stepped\": false, \"type\": \"scatter\", \"data\": [0.7289682539682539, 0.7027777777777778, 0.753968253968254, 0.6865079365079365, 0.7809523809523811, 0.7496031746031745, 0.6380952380952379, 0.807936507936508, 0.8031746031746032, 0.7742063492063493, 0.7519841269841269, 0.7845238095238096, 0.7345238095238096, 0.5, 0.7845238095238095, 0.7873015873015873, 0.7511904761904762, 0.813095238095238, 0.8087301587301587, 0.7992063492063493]}, {\"categories\": [\"0\", \"3\", \"5\", \"7\", \"10\", \"12\", \"14\", \"17\", \"20\", \"21\", \"22\", \"23\", \"24\", \"25\", \"26\", \"27\", \"28\", \"29\", \"30\", \"31\"], \"mode\": \"lines\", \"name\": \"recall_score_macro_max\", \"stepped\": true, \"type\": \"scatter\", \"data\": [0.7289682539682539, 0.7289682539682539, 0.753968253968254, 0.753968253968254, 0.7809523809523811, 0.7809523809523811, 0.7809523809523811, 0.807936507936508, 0.807936507936508, 0.807936507936508, 0.807936507936508, 0.807936507936508, 0.807936507936508, 0.807936507936508, 0.807936507936508, 0.807936507936508, 0.807936507936508, 0.813095238095238, 0.813095238095238, 0.813095238095238]}], \"f1_score_micro\": [{\"categories\": [\"0\", \"3\", \"5\", \"7\", \"10\", \"12\", \"14\", \"17\", \"20\", \"21\", \"22\", \"23\", \"24\", \"25\", \"26\", \"27\", \"28\", \"29\", \"30\", \"31\"], \"mode\": \"markers\", \"name\": \"f1_score_micro\", \"stepped\": false, \"type\": \"scatter\", \"data\": [0.7866666666666667, 0.7666666666666666, 0.8, 0.7666666666666667, 0.8266666666666668, 0.7466666666666668, 0.7266666666666668, 0.8533333333333335, 0.8466666666666667, 0.8133333333333332, 0.8, 0.8266666666666668, 0.7933333333333333, 0.6599999999999999, 0.8333333333333334, 0.8266666666666668, 0.8066666666666666, 0.8400000000000001, 0.8533333333333333, 0.8333333333333334]}, {\"categories\": [\"0\", \"3\", \"5\", \"7\", \"10\", \"12\", \"14\", \"17\", \"20\", \"21\", \"22\", \"23\", \"24\", \"25\", \"26\", \"27\", \"28\", \"29\", \"30\", \"31\"], \"mode\": \"lines\", \"name\": \"f1_score_micro_max\", \"stepped\": true, \"type\": \"scatter\", \"data\": [0.7866666666666667, 0.7866666666666667, 0.8, 0.8, 0.8266666666666668, 0.8266666666666668, 0.8266666666666668, 0.8533333333333335, 0.8533333333333335, 0.8533333333333335, 0.8533333333333335, 0.8533333333333335, 0.8533333333333335, 0.8533333333333335, 0.8533333333333335, 0.8533333333333335, 0.8533333333333335, 0.8533333333333335, 0.8533333333333335, 0.8533333333333335]}], \"average_precision_score_micro\": [{\"categories\": [\"0\", \"3\", \"5\", \"7\", \"10\", \"12\", \"14\", \"17\", \"20\", \"21\", \"22\", \"23\", \"24\", \"25\", \"26\", \"27\", \"28\", \"29\", \"30\", \"31\"], \"mode\": \"markers\", \"name\": \"average_precision_score_micro\", \"stepped\": false, \"type\": \"scatter\", \"data\": [0.8911830085409882, 0.8369601695734964, 0.8854717075453797, 0.8741485659451828, 0.8914443201362976, 0.8836015147342687, 0.7605880085325237, 0.8925341824297213, 0.9004839902197921, 0.9167788443865093, 0.8922022935406376, 0.8959729117547754, 0.8953549330278827, 0.6488501367145755, 0.9062679805796948, 0.8938377569129325, 0.8925728497285812, 0.9032928381590534, 0.9080854178211698, 0.9124823951396085]}, {\"categories\": [\"0\", \"3\", \"5\", \"7\", \"10\", \"12\", \"14\", \"17\", \"20\", \"21\", \"22\", \"23\", \"24\", \"25\", \"26\", \"27\", \"28\", \"29\", \"30\", \"31\"], \"mode\": \"lines\", \"name\": \"average_precision_score_micro_max\", \"stepped\": true, \"type\": \"scatter\", \"data\": [0.8911830085409882, 0.8911830085409882, 0.8911830085409882, 0.8911830085409882, 0.8914443201362976, 0.8914443201362976, 0.8914443201362976, 0.8925341824297213, 0.9004839902197921, 0.9167788443865093, 0.9167788443865093, 0.9167788443865093, 0.9167788443865093, 0.9167788443865093, 0.9167788443865093, 0.9167788443865093, 0.9167788443865093, 0.9167788443865093, 0.9167788443865093, 0.9167788443865093]}], \"balanced_accuracy\": [{\"categories\": [\"0\", \"3\", \"5\", \"7\", \"10\", \"12\", \"14\", \"17\", \"20\", \"21\", \"22\", \"23\", \"24\", \"25\", \"26\", \"27\", \"28\", \"29\", \"30\", \"31\"], \"mode\": \"markers\", \"name\": \"balanced_accuracy\", \"stepped\": false, \"type\": \"scatter\", \"data\": [0.7289682539682539, 0.7027777777777778, 0.753968253968254, 0.6865079365079365, 0.7809523809523811, 0.7496031746031745, 0.6380952380952379, 0.807936507936508, 0.8031746031746032, 0.7742063492063493, 0.7519841269841269, 0.7845238095238096, 0.7345238095238096, 0.5, 0.7845238095238095, 0.7873015873015873, 0.7511904761904762, 0.813095238095238, 0.8087301587301587, 0.7992063492063493]}, {\"categories\": [\"0\", \"3\", \"5\", \"7\", \"10\", \"12\", \"14\", \"17\", \"20\", \"21\", \"22\", \"23\", \"24\", \"25\", \"26\", \"27\", \"28\", \"29\", \"30\", \"31\"], \"mode\": \"lines\", \"name\": \"balanced_accuracy_max\", \"stepped\": true, \"type\": \"scatter\", \"data\": [0.7289682539682539, 0.7289682539682539, 0.753968253968254, 0.753968253968254, 0.7809523809523811, 0.7809523809523811, 0.7809523809523811, 0.807936507936508, 0.807936507936508, 0.807936507936508, 0.807936507936508, 0.807936507936508, 0.807936507936508, 0.807936507936508, 0.807936507936508, 0.807936507936508, 0.807936507936508, 0.813095238095238, 0.813095238095238, 0.813095238095238]}], \"average_precision_score_weighted\": [{\"categories\": [\"0\", \"3\", \"5\", \"7\", \"10\", \"12\", \"14\", \"17\", \"20\", \"21\", \"22\", \"23\", \"24\", \"25\", \"26\", \"27\", \"28\", \"29\", \"30\", \"31\"], \"mode\": \"markers\", \"name\": \"average_precision_score_weighted\", \"stepped\": false, \"type\": \"scatter\", \"data\": [0.8959746507830774, 0.8517634598743566, 0.8888571712429298, 0.8919827521367225, 0.9006907678562545, 0.9029788206008872, 0.7507878927507023, 0.9044767742647067, 0.9103970025298335, 0.9213798543375535, 0.8993873389733265, 0.9022009875658614, 0.9093242728114982, 0.6082508407362679, 0.9172704344790086, 0.8943545647768424, 0.9108092921569295, 0.9054122848943283, 0.9198308463635696, 0.9119131366507192]}, {\"categories\": [\"0\", \"3\", \"5\", \"7\", \"10\", \"12\", \"14\", \"17\", \"20\", \"21\", \"22\", \"23\", \"24\", \"25\", \"26\", \"27\", \"28\", \"29\", \"30\", \"31\"], \"mode\": \"lines\", \"name\": \"average_precision_score_weighted_max\", \"stepped\": true, \"type\": \"scatter\", \"data\": [0.8959746507830774, 0.8959746507830774, 0.8959746507830774, 0.8959746507830774, 0.9006907678562545, 0.9029788206008872, 0.9029788206008872, 0.9044767742647067, 0.9103970025298335, 0.9213798543375535, 0.9213798543375535, 0.9213798543375535, 0.9213798543375535, 0.9213798543375535, 0.9213798543375535, 0.9213798543375535, 0.9213798543375535, 0.9213798543375535, 0.9213798543375535, 0.9213798543375535]}], \"precision_score_macro\": [{\"categories\": [\"0\", \"3\", \"5\", \"7\", \"10\", \"12\", \"14\", \"17\", \"20\", \"21\", \"22\", \"23\", \"24\", \"25\", \"26\", \"27\", \"28\", \"29\", \"30\", \"31\"], \"mode\": \"markers\", \"name\": \"precision_score_macro\", \"stepped\": false, \"type\": \"scatter\", \"data\": [0.7771687370600414, 0.8002156177156177, 0.7887720371416025, 0.7876579869405956, 0.8325843842148191, 0.7277275012569131, 0.7269786373047242, 0.8687182382834557, 0.8538890457368717, 0.8045768241420415, 0.8020479641131815, 0.8383454106280194, 0.8089579020013803, 0.32999999999999996, 0.8495451408494887, 0.8263857519292304, 0.8363426018426019, 0.8305627705627705, 0.8689652738565782, 0.828589466089466]}, {\"categories\": [\"0\", \"3\", \"5\", \"7\", \"10\", \"12\", \"14\", \"17\", \"20\", \"21\", \"22\", \"23\", \"24\", \"25\", \"26\", \"27\", \"28\", \"29\", \"30\", \"31\"], \"mode\": \"lines\", \"name\": \"precision_score_macro_max\", \"stepped\": true, \"type\": \"scatter\", \"data\": [0.7771687370600414, 0.8002156177156177, 0.8002156177156177, 0.8002156177156177, 0.8325843842148191, 0.8325843842148191, 0.8325843842148191, 0.8687182382834557, 0.8687182382834557, 0.8687182382834557, 0.8687182382834557, 0.8687182382834557, 0.8687182382834557, 0.8687182382834557, 0.8687182382834557, 0.8687182382834557, 0.8687182382834557, 0.8687182382834557, 0.8689652738565782, 0.8689652738565782]}], \"precision_score_micro\": [{\"categories\": [\"0\", \"3\", \"5\", \"7\", \"10\", \"12\", \"14\", \"17\", \"20\", \"21\", \"22\", \"23\", \"24\", \"25\", \"26\", \"27\", \"28\", \"29\", \"30\", \"31\"], \"mode\": \"markers\", \"name\": \"precision_score_micro\", \"stepped\": false, \"type\": \"scatter\", \"data\": [0.7866666666666667, 0.7666666666666666, 0.8, 0.7666666666666667, 0.8266666666666668, 0.7466666666666667, 0.7266666666666668, 0.8533333333333335, 0.8466666666666667, 0.8133333333333332, 0.8, 0.8266666666666668, 0.7933333333333333, 0.6599999999999999, 0.8333333333333334, 0.8266666666666665, 0.8066666666666666, 0.8400000000000001, 0.8533333333333333, 0.8333333333333334]}, {\"categories\": [\"0\", \"3\", \"5\", \"7\", \"10\", \"12\", \"14\", \"17\", \"20\", \"21\", \"22\", \"23\", \"24\", \"25\", \"26\", \"27\", \"28\", \"29\", \"30\", \"31\"], \"mode\": \"lines\", \"name\": \"precision_score_micro_max\", \"stepped\": true, \"type\": \"scatter\", \"data\": [0.7866666666666667, 0.7866666666666667, 0.8, 0.8, 0.8266666666666668, 0.8266666666666668, 0.8266666666666668, 0.8533333333333335, 0.8533333333333335, 0.8533333333333335, 0.8533333333333335, 0.8533333333333335, 0.8533333333333335, 0.8533333333333335, 0.8533333333333335, 0.8533333333333335, 0.8533333333333335, 0.8533333333333335, 0.8533333333333335, 0.8533333333333335]}], \"AUC_weighted\": [{\"categories\": [\"0\", \"3\", \"5\", \"7\", \"10\", \"12\", \"14\", \"17\", \"20\", \"21\", \"22\", \"23\", \"24\", \"25\", \"26\", \"27\", \"28\", \"29\", \"30\", \"31\"], \"mode\": \"markers\", \"name\": \"AUC_weighted\", \"stepped\": false, \"type\": \"scatter\", \"data\": [0.8842592592592593, 0.8362433862433862, 0.8825396825396826, 0.887962962962963, 0.880952380952381, 0.8857142857142856, 0.7333994708994709, 0.878968253968254, 0.8886243386243386, 0.9149470899470898, 0.8972222222222224, 0.8966931216931219, 0.9025132275132275, 0.5205026455026456, 0.9082010582010582, 0.881084656084656, 0.9017195767195767, 0.9006613756613758, 0.9006613756613756, 0.8940476190476192]}, {\"categories\": [\"0\", \"3\", \"5\", \"7\", \"10\", \"12\", \"14\", \"17\", \"20\", \"21\", \"22\", \"23\", \"24\", \"25\", \"26\", \"27\", \"28\", \"29\", \"30\", \"31\"], \"mode\": \"lines\", \"name\": \"AUC_weighted_max\", \"stepped\": true, \"type\": \"scatter\", \"data\": [0.8842592592592593, 0.8842592592592593, 0.8842592592592593, 0.887962962962963, 0.887962962962963, 0.887962962962963, 0.887962962962963, 0.887962962962963, 0.8886243386243386, 0.9149470899470898, 0.9149470899470898, 0.9149470899470898, 0.9149470899470898, 0.9149470899470898, 0.9149470899470898, 0.9149470899470898, 0.9149470899470898, 0.9149470899470898, 0.9149470899470898, 0.9149470899470898]}], \"log_loss\": [{\"categories\": [\"0\", \"3\", \"5\", \"7\", \"10\", \"12\", \"14\", \"17\", \"20\", \"21\", \"22\", \"23\", \"24\", \"25\", \"26\", \"27\", \"28\", \"29\", \"30\", \"31\"], \"mode\": \"markers\", \"name\": \"log_loss\", \"stepped\": false, \"type\": \"scatter\", \"data\": [0.6015667419677901, 0.6638822014434312, 0.4388677356888864, 0.49932257201712815, 0.41117184219158576, 0.4460766850733748, 2.9065322743951447, 0.42764455758588166, 0.4207981736303267, 0.3870894309727006, 0.4863160216838621, 0.4742365191559957, 0.4719558393532612, 0.6433490548555354, 0.4974450725174039, 0.5095261207456996, 0.44267391219169927, 0.43244057718152523, 0.3953958551765616, 0.41489998773599596]}, {\"categories\": [\"0\", \"3\", \"5\", \"7\", \"10\", \"12\", \"14\", \"17\", \"20\", \"21\", \"22\", \"23\", \"24\", \"25\", \"26\", \"27\", \"28\", \"29\", \"30\", \"31\"], \"mode\": \"lines\", \"name\": \"log_loss_min\", \"stepped\": true, \"type\": \"scatter\", \"data\": [0.6015667419677901, 0.6015667419677901, 0.4388677356888864, 0.4388677356888864, 0.41117184219158576, 0.41117184219158576, 0.41117184219158576, 0.41117184219158576, 0.41117184219158576, 0.3870894309727006, 0.3870894309727006, 0.3870894309727006, 0.3870894309727006, 0.3870894309727006, 0.3870894309727006, 0.3870894309727006, 0.3870894309727006, 0.3870894309727006, 0.3870894309727006, 0.3870894309727006]}], \"matthews_correlation\": [{\"categories\": [\"0\", \"3\", \"5\", \"7\", \"10\", \"12\", \"14\", \"17\", \"20\", \"21\", \"22\", \"23\", \"24\", \"25\", \"26\", \"27\", \"28\", \"29\", \"30\", \"31\"], \"mode\": \"markers\", \"name\": \"matthews_correlation\", \"stepped\": false, \"type\": \"scatter\", \"data\": [0.503466593698991, 0.48429295798512173, 0.5412576709900326, 0.460296917984474, 0.6101363258093044, 0.47654358484285575, 0.34923694622003654, 0.6731808196079452, 0.6545725327383219, 0.5772942170833041, 0.5489527323736796, 0.6180883927177737, 0.535213275406587, 0.0, 0.6289293884708184, 0.610771230771441, 0.5757919671753531, 0.6428011148330348, 0.6741700011059473, 0.6264725639713202]}, {\"categories\": [\"0\", \"3\", \"5\", \"7\", \"10\", \"12\", \"14\", \"17\", \"20\", \"21\", \"22\", \"23\", \"24\", \"25\", \"26\", \"27\", \"28\", \"29\", \"30\", \"31\"], \"mode\": \"lines\", \"name\": \"matthews_correlation_max\", \"stepped\": true, \"type\": \"scatter\", \"data\": [0.503466593698991, 0.503466593698991, 0.5412576709900326, 0.5412576709900326, 0.6101363258093044, 0.6101363258093044, 0.6101363258093044, 0.6731808196079452, 0.6731808196079452, 0.6731808196079452, 0.6731808196079452, 0.6731808196079452, 0.6731808196079452, 0.6731808196079452, 0.6731808196079452, 0.6731808196079452, 0.6731808196079452, 0.6731808196079452, 0.6741700011059473, 0.6741700011059473]}], \"precision_score_weighted\": [{\"categories\": [\"0\", \"3\", \"5\", \"7\", \"10\", \"12\", \"14\", \"17\", \"20\", \"21\", \"22\", \"23\", \"24\", \"25\", \"26\", \"27\", \"28\", \"29\", \"30\", \"31\"], \"mode\": \"markers\", \"name\": \"precision_score_weighted\", \"stepped\": false, \"type\": \"scatter\", \"data\": [0.7857774327122153, 0.8031223776223777, 0.7984630466152206, 0.7853702659659183, 0.8343068887634105, 0.772114127702363, 0.7376665725578769, 0.8636307171089779, 0.854298418972332, 0.8160693895476504, 0.8102670807453418, 0.8415010351966874, 0.8105093167701863, 0.438, 0.8498221343873518, 0.833675983436853, 0.834855710955711, 0.8434999999999999, 0.8666756070016939, 0.838560606060606]}, {\"categories\": [\"0\", \"3\", \"5\", \"7\", \"10\", \"12\", \"14\", \"17\", \"20\", \"21\", \"22\", \"23\", \"24\", \"25\", \"26\", \"27\", \"28\", \"29\", \"30\", \"31\"], \"mode\": \"lines\", \"name\": \"precision_score_weighted_max\", \"stepped\": true, \"type\": \"scatter\", \"data\": [0.7857774327122153, 0.8031223776223777, 0.8031223776223777, 0.8031223776223777, 0.8343068887634105, 0.8343068887634105, 0.8343068887634105, 0.8636307171089779, 0.8636307171089779, 0.8636307171089779, 0.8636307171089779, 0.8636307171089779, 0.8636307171089779, 0.8636307171089779, 0.8636307171089779, 0.8636307171089779, 0.8636307171089779, 0.8636307171089779, 0.8666756070016939, 0.8666756070016939]}], \"f1_score_macro\": [{\"categories\": [\"0\", \"3\", \"5\", \"7\", \"10\", \"12\", \"14\", \"17\", \"20\", \"21\", \"22\", \"23\", \"24\", \"25\", \"26\", \"27\", \"28\", \"29\", \"30\", \"31\"], \"mode\": \"markers\", \"name\": \"f1_score_macro\", \"stepped\": false, \"type\": \"scatter\", \"data\": [0.7412189611130562, 0.6999511089195886, 0.762598469824556, 0.6928938706088923, 0.7913551688102176, 0.7305044604518288, 0.6361053428110838, 0.8237545826462658, 0.8163303402220233, 0.7809772976117987, 0.7564350962241233, 0.7913059163059163, 0.7413462107887552, 0.3970588235294117, 0.7966398930829459, 0.7926412230070548, 0.7565896407893671, 0.8165884015594964, 0.823223793367081, 0.8060111176253448]}, {\"categories\": [\"0\", \"3\", \"5\", \"7\", \"10\", \"12\", \"14\", \"17\", \"20\", \"21\", \"22\", \"23\", \"24\", \"25\", \"26\", \"27\", \"28\", \"29\", \"30\", \"31\"], \"mode\": \"lines\", \"name\": \"f1_score_macro_max\", \"stepped\": true, \"type\": \"scatter\", \"data\": [0.7412189611130562, 0.7412189611130562, 0.762598469824556, 0.762598469824556, 0.7913551688102176, 0.7913551688102176, 0.7913551688102176, 0.8237545826462658, 0.8237545826462658, 0.8237545826462658, 0.8237545826462658, 0.8237545826462658, 0.8237545826462658, 0.8237545826462658, 0.8237545826462658, 0.8237545826462658, 0.8237545826462658, 0.8237545826462658, 0.8237545826462658, 0.8237545826462658]}], \"average_precision_score_macro\": [{\"categories\": [\"0\", \"3\", \"5\", \"7\", \"10\", \"12\", \"14\", \"17\", \"20\", \"21\", \"22\", \"23\", \"24\", \"25\", \"26\", \"27\", \"28\", \"29\", \"30\", \"31\"], \"mode\": \"markers\", \"name\": \"average_precision_score_macro\", \"stepped\": false, \"type\": \"scatter\", \"data\": [0.8707924948237883, 0.8290575005106252, 0.8632227687023502, 0.865336409481557, 0.8866198254893198, 0.8856786364801763, 0.7165863808799782, 0.8896226113032792, 0.8929602143342674, 0.9020494575619598, 0.8743383603692181, 0.8799343061015167, 0.8886161497937739, 0.565603425999572, 0.9004591498850001, 0.8707533276542895, 0.893253605107236, 0.8805639054187633, 0.9047386751602952, 0.8940333387183129]}, {\"categories\": [\"0\", \"3\", \"5\", \"7\", \"10\", \"12\", \"14\", \"17\", \"20\", \"21\", \"22\", \"23\", \"24\", \"25\", \"26\", \"27\", \"28\", \"29\", \"30\", \"31\"], \"mode\": \"lines\", \"name\": \"average_precision_score_macro_max\", \"stepped\": true, \"type\": \"scatter\", \"data\": [0.8707924948237883, 0.8707924948237883, 0.8707924948237883, 0.8707924948237883, 0.8866198254893198, 0.8866198254893198, 0.8866198254893198, 0.8896226113032792, 0.8929602143342674, 0.9020494575619598, 0.9020494575619598, 0.9020494575619598, 0.9020494575619598, 0.9020494575619598, 0.9020494575619598, 0.9020494575619598, 0.9020494575619598, 0.9020494575619598, 0.9047386751602952, 0.9047386751602952]}], \"AUC_micro\": [{\"categories\": [\"0\", \"3\", \"5\", \"7\", \"10\", \"12\", \"14\", \"17\", \"20\", \"21\", \"22\", \"23\", \"24\", \"25\", \"26\", \"27\", \"28\", \"29\", \"30\", \"31\"], \"mode\": \"markers\", \"name\": \"AUC_micro\", \"stepped\": false, \"type\": \"scatter\", \"data\": [0.884, 0.8406666666666667, 0.8808888888888889, 0.8604444444444445, 0.8902222222222221, 0.876, 0.7802222222222223, 0.888888888888889, 0.8931111111111111, 0.9093333333333333, 0.8893333333333334, 0.8924444444444445, 0.8891111111111112, 0.6700000000000002, 0.9042222222222221, 0.8893333333333334, 0.8873333333333333, 0.8946666666666667, 0.9026666666666667, 0.906]}, {\"categories\": [\"0\", \"3\", \"5\", \"7\", \"10\", \"12\", \"14\", \"17\", \"20\", \"21\", \"22\", \"23\", \"24\", \"25\", \"26\", \"27\", \"28\", \"29\", \"30\", \"31\"], \"mode\": \"lines\", \"name\": \"AUC_micro_max\", \"stepped\": true, \"type\": \"scatter\", \"data\": [0.884, 0.884, 0.884, 0.884, 0.8902222222222221, 0.8902222222222221, 0.8902222222222221, 0.8902222222222221, 0.8931111111111111, 0.9093333333333333, 0.9093333333333333, 0.9093333333333333, 0.9093333333333333, 0.9093333333333333, 0.9093333333333333, 0.9093333333333333, 0.9093333333333333, 0.9093333333333333, 0.9093333333333333, 0.9093333333333333]}], \"recall_score_weighted\": [{\"categories\": [\"0\", \"3\", \"5\", \"7\", \"10\", \"12\", \"14\", \"17\", \"20\", \"21\", \"22\", \"23\", \"24\", \"25\", \"26\", \"27\", \"28\", \"29\", \"30\", \"31\"], \"mode\": \"markers\", \"name\": \"recall_score_weighted\", \"stepped\": false, \"type\": \"scatter\", \"data\": [0.7866666666666667, 0.7666666666666666, 0.8, 0.7666666666666667, 0.8266666666666668, 0.7466666666666667, 0.7266666666666668, 0.8533333333333335, 0.8466666666666667, 0.8133333333333332, 0.8, 0.8266666666666668, 0.7933333333333333, 0.6599999999999999, 0.8333333333333334, 0.8266666666666665, 0.8066666666666666, 0.8400000000000001, 0.8533333333333333, 0.8333333333333334]}, {\"categories\": [\"0\", \"3\", \"5\", \"7\", \"10\", \"12\", \"14\", \"17\", \"20\", \"21\", \"22\", \"23\", \"24\", \"25\", \"26\", \"27\", \"28\", \"29\", \"30\", \"31\"], \"mode\": \"lines\", \"name\": \"recall_score_weighted_max\", \"stepped\": true, \"type\": \"scatter\", \"data\": [0.7866666666666667, 0.7866666666666667, 0.8, 0.8, 0.8266666666666668, 0.8266666666666668, 0.8266666666666668, 0.8533333333333335, 0.8533333333333335, 0.8533333333333335, 0.8533333333333335, 0.8533333333333335, 0.8533333333333335, 0.8533333333333335, 0.8533333333333335, 0.8533333333333335, 0.8533333333333335, 0.8533333333333335, 0.8533333333333335, 0.8533333333333335]}]}, \"metricName\": null, \"primaryMetricName\": \"accuracy\", \"showLegend\": false}, \"run_metrics\": [{\"name\": \"experiment_status\", \"run_id\": \"AutoML_a6879662-4ca6-4506-9af8-99bf07bc8090\", \"categories\": [0, 1, 2, 3, 4, 5, 6, 7, 8, 9, 10, 11, 12, 13], \"series\": [{\"data\": [\"DatasetEvaluation\", \"FeaturesGeneration\", \"DatasetFeaturization\", \"DatasetFeaturizationCompleted\", \"DatasetCrossValidationSplit\", \"ModelSelection\", \"BestRunExplainModel\", \"ModelExplanationDataSetSetup\", \"PickSurrogateModel\", \"EngineeredFeatureExplanations\", \"EngineeredFeatureExplanations\", \"RawFeaturesExplanations\", \"RawFeaturesExplanations\", \"BestRunExplainModel\"]}]}, {\"name\": \"experiment_status_description\", \"run_id\": \"AutoML_a6879662-4ca6-4506-9af8-99bf07bc8090\", \"categories\": [0, 1, 2, 3, 4, 5, 6, 7, 8, 9, 10, 11, 12, 13], \"series\": [{\"data\": [\"Gathering dataset statistics.\", \"Generating features for the dataset.\", \"Beginning to fit featurizers and featurize the dataset.\", \"Completed fit featurizers and featurizing the dataset.\", \"Generating individually featurized CV splits.\", \"Beginning model selection.\", \"Best run model explanations started\", \"Model explanations data setup completed\", \"Choosing LightGBM as the surrogate model for explanations\", \"Computation of engineered features started\", \"Computation of engineered features completed\", \"Computation of raw features started\", \"Computation of raw features completed\", \"Best run model explanations completed\"]}]}, {\"name\": \"matthews_correlation\", \"run_id\": \"AutoML_a6879662-4ca6-4506-9af8-99bf07bc8090\", \"categories\": [0], \"series\": [{\"data\": [0.6731808196079452]}]}, {\"name\": \"recall_score_weighted\", \"run_id\": \"AutoML_a6879662-4ca6-4506-9af8-99bf07bc8090\", \"categories\": [0], \"series\": [{\"data\": [0.8533333333333335]}]}, {\"name\": \"f1_score_macro\", \"run_id\": \"AutoML_a6879662-4ca6-4506-9af8-99bf07bc8090\", \"categories\": [0], \"series\": [{\"data\": [0.8237545826462658]}]}, {\"name\": \"accuracy\", \"run_id\": \"AutoML_a6879662-4ca6-4506-9af8-99bf07bc8090\", \"categories\": [0], \"series\": [{\"data\": [0.8533333333333335]}]}, {\"name\": \"AUC_weighted\", \"run_id\": \"AutoML_a6879662-4ca6-4506-9af8-99bf07bc8090\", \"categories\": [0], \"series\": [{\"data\": [0.878968253968254]}]}, {\"name\": \"f1_score_weighted\", \"run_id\": \"AutoML_a6879662-4ca6-4506-9af8-99bf07bc8090\", \"categories\": [0], \"series\": [{\"data\": [0.8464233718325376]}]}, {\"name\": \"average_precision_score_micro\", \"run_id\": \"AutoML_a6879662-4ca6-4506-9af8-99bf07bc8090\", \"categories\": [0], \"series\": [{\"data\": [0.8925341824297213]}]}, {\"name\": \"precision_score_weighted\", \"run_id\": \"AutoML_a6879662-4ca6-4506-9af8-99bf07bc8090\", \"categories\": [0], \"series\": [{\"data\": [0.8636307171089779]}]}, {\"name\": \"precision_score_macro\", \"run_id\": \"AutoML_a6879662-4ca6-4506-9af8-99bf07bc8090\", \"categories\": [0], \"series\": [{\"data\": [0.8687182382834557]}]}, {\"name\": \"AUC_micro\", \"run_id\": \"AutoML_a6879662-4ca6-4506-9af8-99bf07bc8090\", \"categories\": [0], \"series\": [{\"data\": [0.888888888888889]}]}, {\"name\": \"weighted_accuracy\", \"run_id\": \"AutoML_a6879662-4ca6-4506-9af8-99bf07bc8090\", \"categories\": [0], \"series\": [{\"data\": [0.8893015030946065]}]}, {\"name\": \"log_loss\", \"run_id\": \"AutoML_a6879662-4ca6-4506-9af8-99bf07bc8090\", \"categories\": [0], \"series\": [{\"data\": [0.42764455758588166]}]}, {\"name\": \"average_precision_score_macro\", \"run_id\": \"AutoML_a6879662-4ca6-4506-9af8-99bf07bc8090\", \"categories\": [0], \"series\": [{\"data\": [0.8896226113032792]}]}, {\"name\": \"norm_macro_recall\", \"run_id\": \"AutoML_a6879662-4ca6-4506-9af8-99bf07bc8090\", \"categories\": [0], \"series\": [{\"data\": [0.6158730158730158]}]}, {\"name\": \"precision_score_micro\", \"run_id\": \"AutoML_a6879662-4ca6-4506-9af8-99bf07bc8090\", \"categories\": [0], \"series\": [{\"data\": [0.8533333333333335]}]}, {\"name\": \"average_precision_score_weighted\", \"run_id\": \"AutoML_a6879662-4ca6-4506-9af8-99bf07bc8090\", \"categories\": [0], \"series\": [{\"data\": [0.9044767742647067]}]}, {\"name\": \"AUC_macro\", \"run_id\": \"AutoML_a6879662-4ca6-4506-9af8-99bf07bc8090\", \"categories\": [0], \"series\": [{\"data\": [0.878968253968254]}]}, {\"name\": \"f1_score_micro\", \"run_id\": \"AutoML_a6879662-4ca6-4506-9af8-99bf07bc8090\", \"categories\": [0], \"series\": [{\"data\": [0.8533333333333335]}]}, {\"name\": \"balanced_accuracy\", \"run_id\": \"AutoML_a6879662-4ca6-4506-9af8-99bf07bc8090\", \"categories\": [0], \"series\": [{\"data\": [0.807936507936508]}]}, {\"name\": \"recall_score_macro\", \"run_id\": \"AutoML_a6879662-4ca6-4506-9af8-99bf07bc8090\", \"categories\": [0], \"series\": [{\"data\": [0.807936507936508]}]}, {\"name\": \"recall_score_micro\", \"run_id\": \"AutoML_a6879662-4ca6-4506-9af8-99bf07bc8090\", \"categories\": [0], \"series\": [{\"data\": [0.8533333333333335]}]}], \"run_logs\": \"\\nRun is completed.\", \"graph\": {}, \"widget_settings\": {\"childWidgetDisplay\": \"popup\", \"send_telemetry\": false, \"log_level\": \"INFO\", \"sdk_version\": \"1.39.0\"}, \"loading\": false}"
          },
          "metadata": {},
          "output_type": "display_data"
        },
        {
          "data": {
            "text/html": [
              "<table style=\"width:100%\"><tr><th>Experiment</th><th>Id</th><th>Type</th><th>Status</th><th>Details Page</th><th>Docs Page</th></tr><tr><td>Final_Project_AutoML</td><td>AutoML_a6879662-4ca6-4506-9af8-99bf07bc8090</td><td>automl</td><td>Completed</td><td><a href=\"https://ml.azure.com/runs/AutoML_a6879662-4ca6-4506-9af8-99bf07bc8090?wsid=/subscriptions/a0a76bad-11a1-4a2d-9887-97a29122c8ed/resourcegroups/aml-quickstarts-191366/workspaces/quick-starts-ws-191366&amp;tid=660b3398-b80e-49d2-bc5b-ac1dc93b5254\" target=\"_blank\" rel=\"noopener\">Link to Azure Machine Learning studio</a></td><td><a href=\"https://docs.microsoft.com/en-us/python/api/overview/azure/ml/intro?view=azure-ml-py\" target=\"_blank\" rel=\"noopener\">Link to Documentation</a></td></tr></table>"
            ],
            "text/plain": [
              "<IPython.core.display.HTML object>"
            ]
          },
          "metadata": {},
          "output_type": "display_data"
        },
        {
          "name": "stdout",
          "output_type": "stream",
          "text": [
            "\n",
            "\n",
            "********************************************************************************************\n",
            "DATA GUARDRAILS: \n",
            "\n",
            "TYPE:         Class balancing detection\n",
            "STATUS:       PASSED\n",
            "DESCRIPTION:  Your inputs were analyzed, and all classes are balanced in your training data.\n",
            "              Learn more about imbalanced data: https://aka.ms/AutomatedMLImbalancedData\n",
            "\n",
            "********************************************************************************************\n",
            "\n",
            "TYPE:         Missing feature values imputation\n",
            "STATUS:       PASSED\n",
            "DESCRIPTION:  No feature missing values were detected in the training data.\n",
            "              Learn more about missing value imputation: https://aka.ms/AutomatedMLFeaturization\n",
            "\n",
            "********************************************************************************************\n",
            "\n",
            "TYPE:         High cardinality feature detection\n",
            "STATUS:       PASSED\n",
            "DESCRIPTION:  Your inputs were analyzed, and no high cardinality features were detected.\n",
            "              Learn more about high cardinality feature handling: https://aka.ms/AutomatedMLFeaturization\n",
            "\n",
            "********************************************************************************************\n",
            "\n",
            "********************************************************************************************\n",
            "ITER: The iteration being evaluated.\n",
            "PIPELINE: A summary description of the pipeline being evaluated.\n",
            "DURATION: Time taken for the current iteration.\n",
            "METRIC: The result of computing score on the fitted pipeline.\n",
            "BEST: The best observed score thus far.\n",
            "********************************************************************************************\n",
            "\n",
            " ITER   PIPELINE                                       DURATION            METRIC      BEST\n",
            "    0   MaxAbsScaler LightGBM                          0:00:18             0.7867    0.7867\n",
            "    1   MaxAbsScaler XGBoostClassifier                 0:00:14             0.8333    0.8333\n",
            "    2   MaxAbsScaler ExtremeRandomTrees                0:00:15             0.8200    0.8333\n",
            "    3   SparseNormalizer XGBoostClassifier             0:00:14             0.7667    0.8333\n",
            "    4   StandardScalerWrapper KNN                      0:00:14             0.6333    0.8333\n",
            "    5   MaxAbsScaler LightGBM                          0:00:14             0.8000    0.8333\n",
            "    6   RobustScaler LogisticRegression                0:00:14             0.8067    0.8333\n",
            "    7   MaxAbsScaler LightGBM                          0:00:13             0.7667    0.8333\n",
            "    8   StandardScalerWrapper KNN                      0:00:13             0.6000    0.8333\n",
            "    9   StandardScalerWrapper SVM                      0:00:14             0.7467    0.8333\n",
            "   10   StandardScalerWrapper XGBoostClassifier        0:00:14             0.8267    0.8333\n",
            "   11   MinMaxScaler RandomForest                      0:00:16             0.8333    0.8333\n",
            "   12   StandardScalerWrapper LogisticRegression       0:00:14             0.7467    0.8333\n",
            "   13   StandardScalerWrapper KNN                      0:00:13             0.6867    0.8333\n",
            "   14   RobustScaler KNN                               0:00:14             0.7267    0.8333\n",
            "   15   MinMaxScaler KNN                               0:00:14             0.7067    0.8333\n",
            "   16   SparseNormalizer KNN                           0:00:14             0.7133    0.8333\n",
            "   17   MaxAbsScaler LogisticRegression                0:00:19             0.8533    0.8533\n",
            "   18   StandardScalerWrapper XGBoostClassifier        0:00:14             0.8133    0.8533\n",
            "   19   StandardScalerWrapper XGBoostClassifier        0:00:14             0.8133    0.8533\n",
            "   20   MaxAbsScaler LogisticRegression                0:00:04             0.8467    0.8533\n",
            "   21   StandardScalerWrapper XGBoostClassifier        0:00:04             0.8133    0.8533\n",
            "   22   SparseNormalizer XGBoostClassifier             0:00:04             0.8000    0.8533\n",
            "   23   SparseNormalizer XGBoostClassifier             0:00:09             0.8267    0.8533\n",
            "   24   SparseNormalizer XGBoostClassifier             0:00:04             0.7933    0.8533\n",
            "   25   SparseNormalizer LogisticRegression            0:00:04             0.6600    0.8533\n",
            "   26   SparseNormalizer XGBoostClassifier             0:00:04             0.8333    0.8533\n",
            "   27   StandardScalerWrapper XGBoostClassifier        0:00:04             0.8267    0.8533\n",
            "   28   SparseNormalizer XGBoostClassifier             0:00:04             0.8067    0.8533\n",
            "   29   StandardScalerWrapper XGBoostClassifier        0:00:04             0.8400    0.8533\n",
            "   30    VotingEnsemble                                0:00:04             0.8533    0.8533\n",
            "   31    StackEnsemble                                 0:00:04             0.8333    0.8533\n"
          ]
        },
        {
          "data": {
            "text/plain": [
              "{'runId': 'AutoML_a6879662-4ca6-4506-9af8-99bf07bc8090',\n",
              " 'target': 'Final-Project-Compute',\n",
              " 'status': 'Completed',\n",
              " 'startTimeUtc': '2022-04-08T10:48:12.140125Z',\n",
              " 'endTimeUtc': '2022-04-08T11:05:27.427849Z',\n",
              " 'services': {},\n",
              " 'warnings': [{'source': 'JasmineService',\n",
              "   'message': 'No scores improved over last 20 iterations, so experiment stopped early. This early stopping behavior can be disabled by setting enable_early_stopping = False in AutoMLConfig for notebook/python SDK runs.'}],\n",
              " 'properties': {'num_iterations': '1000',\n",
              "  'training_type': 'TrainFull',\n",
              "  'acquisition_function': 'EI',\n",
              "  'primary_metric': 'accuracy',\n",
              "  'train_split': '0.1',\n",
              "  'acquisition_parameter': '0',\n",
              "  'num_cross_validation': '5',\n",
              "  'target': 'Final-Project-Compute',\n",
              "  'AMLSettingsJsonString': '{\"path\":null,\"name\":\"Final_Project_AutoML\",\"subscription_id\":\"a0a76bad-11a1-4a2d-9887-97a29122c8ed\",\"resource_group\":\"aml-quickstarts-191366\",\"workspace_name\":\"quick-starts-ws-191366\",\"region\":\"southcentralus\",\"compute_target\":\"Final-Project-Compute\",\"spark_service\":null,\"azure_service\":\"remote\",\"many_models\":false,\"pipeline_fetch_max_batch_size\":1,\"enable_batch_run\":true,\"enable_run_restructure\":false,\"start_auxiliary_runs_before_parent_complete\":false,\"enable_code_generation\":false,\"iterations\":1000,\"primary_metric\":\"accuracy\",\"task_type\":\"classification\",\"positive_label\":null,\"data_script\":null,\"test_size\":0.0,\"test_include_predictions_only\":false,\"validation_size\":0.1,\"n_cross_validations\":5,\"y_min\":null,\"y_max\":null,\"num_classes\":null,\"featurization\":\"auto\",\"_ignore_package_version_incompatibilities\":false,\"is_timeseries\":false,\"max_cores_per_iteration\":1,\"max_concurrent_iterations\":1,\"iteration_timeout_minutes\":null,\"mem_in_mb\":null,\"enforce_time_on_windows\":false,\"experiment_timeout_minutes\":40,\"experiment_exit_score\":null,\"partition_column_names\":null,\"whitelist_models\":null,\"blacklist_algos\":[\"TensorFlowLinearClassifier\",\"TensorFlowDNN\"],\"supported_models\":[\"XGBoostClassifier\",\"ExtremeRandomTrees\",\"TabnetClassifier\",\"LogisticRegression\",\"LinearSVM\",\"SVM\",\"MultinomialNaiveBayes\",\"RandomForest\",\"LightGBM\",\"AveragedPerceptronClassifier\",\"GradientBoosting\",\"TensorFlowLinearClassifier\",\"SGD\",\"BernoulliNaiveBayes\",\"TensorFlowDNN\",\"DecisionTree\",\"KNN\"],\"private_models\":[],\"auto_blacklist\":true,\"blacklist_samples_reached\":false,\"exclude_nan_labels\":true,\"verbosity\":20,\"_debug_log\":\"azureml_automl.log\",\"show_warnings\":false,\"model_explainability\":true,\"service_url\":null,\"sdk_url\":null,\"sdk_packages\":null,\"enable_onnx_compatible_models\":false,\"enable_split_onnx_featurizer_estimator_models\":false,\"vm_type\":\"STANDARD_DS3_V2\",\"telemetry_verbosity\":20,\"send_telemetry\":true,\"enable_dnn\":false,\"scenario\":\"SDK-1.13.0\",\"environment_label\":null,\"save_mlflow\":false,\"enable_categorical_indicators\":false,\"force_text_dnn\":false,\"enable_feature_sweeping\":true,\"enable_early_stopping\":true,\"early_stopping_n_iters\":10,\"arguments\":null,\"dataset_id\":\"dab02e4b-b5a0-4f47-89ba-5817db9539ad\",\"hyperdrive_config\":null,\"validation_dataset_id\":null,\"run_source\":null,\"metrics\":null,\"enable_metric_confidence\":false,\"enable_ensembling\":true,\"enable_stack_ensembling\":true,\"ensemble_iterations\":15,\"enable_tf\":false,\"enable_subsampling\":null,\"subsample_seed\":null,\"enable_nimbusml\":false,\"enable_streaming\":false,\"force_streaming\":false,\"track_child_runs\":true,\"allowed_private_models\":[],\"label_column_name\":\"DEATH_EVENT\",\"weight_column_name\":null,\"cv_split_column_names\":null,\"enable_local_managed\":false,\"_local_managed_run_id\":null,\"cost_mode\":1,\"lag_length\":0,\"metric_operation\":\"maximize\",\"preprocess\":true}',\n",
              "  'DataPrepJsonString': '{\\\\\"training_data\\\\\": {\\\\\"datasetId\\\\\": \\\\\"dab02e4b-b5a0-4f47-89ba-5817db9539ad\\\\\"}, \\\\\"datasets\\\\\": 0}',\n",
              "  'EnableSubsampling': None,\n",
              "  'runTemplate': 'AutoML',\n",
              "  'azureml.runsource': 'automl',\n",
              "  'display_task_type': 'classification',\n",
              "  'dependencies_versions': '{\"azureml-widgets\": \"1.39.0\", \"azureml-training-tabular\": \"1.39.0\", \"azureml-train\": \"1.39.0\", \"azureml-train-restclients-hyperdrive\": \"1.39.0\", \"azureml-train-core\": \"1.39.0\", \"azureml-train-automl\": \"1.39.0\", \"azureml-train-automl-runtime\": \"1.39.0\", \"azureml-train-automl-client\": \"1.39.0\", \"azureml-tensorboard\": \"1.39.0\", \"azureml-telemetry\": \"1.39.0\", \"azureml-sdk\": \"1.39.0\", \"azureml-samples\": \"0+unknown\", \"azureml-responsibleai\": \"1.39.0\", \"azureml-pipeline\": \"1.39.0\", \"azureml-pipeline-steps\": \"1.39.0\", \"azureml-pipeline-core\": \"1.39.0\", \"azureml-opendatasets\": \"1.39.0\", \"azureml-mlflow\": \"1.39.0\", \"azureml-interpret\": \"1.39.0\", \"azureml-inference-server-http\": \"0.4.10\", \"azureml-explain-model\": \"1.39.0\", \"azureml-defaults\": \"1.39.0\", \"azureml-dataset-runtime\": \"1.39.0\", \"azureml-dataprep\": \"2.27.1\", \"azureml-dataprep-rslex\": \"2.3.1\", \"azureml-dataprep-native\": \"38.0.0\", \"azureml-datadrift\": \"1.39.0\", \"azureml-core\": \"1.39.0\", \"azureml-contrib-services\": \"1.39.0\", \"azureml-contrib-server\": \"1.39.0\", \"azureml-contrib-reinforcementlearning\": \"1.39.0\", \"azureml-contrib-pipeline-steps\": \"1.39.0\", \"azureml-contrib-notebook\": \"1.39.0\", \"azureml-contrib-fairness\": \"1.39.0\", \"azureml-contrib-dataset\": \"1.39.0\", \"azureml-contrib-automl-pipeline-steps\": \"1.39.0\", \"azureml-cli-common\": \"1.39.0\", \"azureml-automl-runtime\": \"1.39.0\", \"azureml-automl-dnn-nlp\": \"1.39.0\", \"azureml-automl-core\": \"1.39.0\", \"azureml-accel-models\": \"1.39.0\"}',\n",
              "  '_aml_system_scenario_identification': 'Remote.Parent',\n",
              "  'ClientType': 'SDK',\n",
              "  'environment_cpu_name': 'AzureML-AutoML',\n",
              "  'environment_cpu_label': 'prod',\n",
              "  'environment_gpu_name': 'AzureML-AutoML-GPU',\n",
              "  'environment_gpu_label': 'prod',\n",
              "  'root_attribution': 'automl',\n",
              "  'attribution': 'AutoML',\n",
              "  'Orchestrator': 'AutoML',\n",
              "  'CancelUri': 'https://southcentralus.api.azureml.ms/jasmine/v1.0/subscriptions/a0a76bad-11a1-4a2d-9887-97a29122c8ed/resourceGroups/aml-quickstarts-191366/providers/Microsoft.MachineLearningServices/workspaces/quick-starts-ws-191366/experimentids/02ba03ef-4e67-4083-bb62-42d3b178ba2a/cancel/AutoML_a6879662-4ca6-4506-9af8-99bf07bc8090',\n",
              "  'ClientSdkVersion': '1.39.1',\n",
              "  'snapshotId': '00000000-0000-0000-0000-000000000000',\n",
              "  'SetupRunId': 'AutoML_a6879662-4ca6-4506-9af8-99bf07bc8090_setup',\n",
              "  'SetupRunContainerId': 'dcid.AutoML_a6879662-4ca6-4506-9af8-99bf07bc8090_setup',\n",
              "  'FeaturizationRunJsonPath': 'featurizer_container.json',\n",
              "  'FeaturizationRunId': 'AutoML_a6879662-4ca6-4506-9af8-99bf07bc8090_featurize',\n",
              "  'ProblemInfoJsonString': '{\"dataset_num_categorical\": 0, \"is_sparse\": false, \"subsampling\": false, \"has_extra_col\": true, \"dataset_classes\": 2, \"dataset_features\": 12, \"dataset_samples\": 299, \"single_frequency_class_detected\": false}',\n",
              "  'ModelExplainRunId': 'AutoML_a6879662-4ca6-4506-9af8-99bf07bc8090_ModelExplain'},\n",
              " 'inputDatasets': [{'dataset': {'id': 'dab02e4b-b5a0-4f47-89ba-5817db9539ad'}, 'consumptionDetails': {'type': 'RunInput', 'inputName': 'training_data', 'mechanism': 'Direct'}}],\n",
              " 'outputDatasets': [],\n",
              " 'logFiles': {},\n",
              " 'submittedBy': 'ODL_User 191366'}"
            ]
          },
          "execution_count": 5,
          "metadata": {},
          "output_type": "execute_result"
        }
      ],
      "source": [
        "RunDetails(automl_run).show()\n",
        "automl_run.wait_for_completion(show_output=True)"
      ]
    },
    {
      "cell_type": "markdown",
      "metadata": {},
      "source": [
        "## Best Model\n",
        "\n",
        "get the best model from the automl experiments and display all the properties of the model.\n",
        "\n"
      ]
    },
    {
      "cell_type": "code",
      "execution_count": 6,
      "metadata": {
        "gather": {
          "logged": 1649416419002
        },
        "jupyter": {
          "outputs_hidden": false,
          "source_hidden": false
        },
        "nteract": {
          "transient": {
            "deleting": false
          }
        }
      },
      "outputs": [
        {
          "name": "stdout",
          "output_type": "stream",
          "text": [
            "Best Run Id:  AutoML_a6879662-4ca6-4506-9af8-99bf07bc8090_17\n",
            "\n",
            " Accuracy: 0.8533333333333335\n"
          ]
        }
      ],
      "source": [
        "# Best performing configuration and hyperparameter values.\n",
        "automl_best_run = automl_run.get_best_child()\n",
        "best_run_metrics = automl_best_run.get_metrics()\n",
        "\n",
        "print('Best Run Id: ', automl_best_run.id)\n",
        "print('\\n Accuracy:', best_run_metrics['accuracy'])"
      ]
    },
    {
      "cell_type": "markdown",
      "metadata": {},
      "source": [
        "Transparency\n",
        "\n",
        "View featurization summary for the best model - to study how different features were transformed. This is stored as a JSON file in the outputs directory for the run."
      ]
    },
    {
      "cell_type": "code",
      "execution_count": 7,
      "metadata": {
        "gather": {
          "logged": 1649416429127
        }
      },
      "outputs": [
        {
          "data": {
            "text/html": [
              "<div>\n",
              "<style scoped>\n",
              "    .dataframe tbody tr th:only-of-type {\n",
              "        vertical-align: middle;\n",
              "    }\n",
              "\n",
              "    .dataframe tbody tr th {\n",
              "        vertical-align: top;\n",
              "    }\n",
              "\n",
              "    .dataframe thead th {\n",
              "        text-align: right;\n",
              "    }\n",
              "</style>\n",
              "<table border=\"1\" class=\"dataframe\">\n",
              "  <thead>\n",
              "    <tr style=\"text-align: right;\">\n",
              "      <th></th>\n",
              "      <th>RawFeatureName</th>\n",
              "      <th>TypeDetected</th>\n",
              "      <th>Dropped</th>\n",
              "      <th>EngineeredFeatureCount</th>\n",
              "      <th>Transformations</th>\n",
              "      <th>TransformationParams</th>\n",
              "    </tr>\n",
              "  </thead>\n",
              "  <tbody>\n",
              "    <tr>\n",
              "      <th>0</th>\n",
              "      <td>age</td>\n",
              "      <td>Numeric</td>\n",
              "      <td>No</td>\n",
              "      <td>1</td>\n",
              "      <td>[MeanImputer]</td>\n",
              "      <td>{'Transformer1': {'Input': ['age'], 'Transform...</td>\n",
              "    </tr>\n",
              "    <tr>\n",
              "      <th>1</th>\n",
              "      <td>creatinine_phosphokinase</td>\n",
              "      <td>Numeric</td>\n",
              "      <td>No</td>\n",
              "      <td>1</td>\n",
              "      <td>[MeanImputer]</td>\n",
              "      <td>{'Transformer1': {'Input': ['creatinine_phosph...</td>\n",
              "    </tr>\n",
              "    <tr>\n",
              "      <th>2</th>\n",
              "      <td>ejection_fraction</td>\n",
              "      <td>Numeric</td>\n",
              "      <td>No</td>\n",
              "      <td>1</td>\n",
              "      <td>[MeanImputer]</td>\n",
              "      <td>{'Transformer1': {'Input': ['ejection_fraction...</td>\n",
              "    </tr>\n",
              "    <tr>\n",
              "      <th>3</th>\n",
              "      <td>platelets</td>\n",
              "      <td>Numeric</td>\n",
              "      <td>No</td>\n",
              "      <td>1</td>\n",
              "      <td>[MeanImputer]</td>\n",
              "      <td>{'Transformer1': {'Input': ['platelets'], 'Tra...</td>\n",
              "    </tr>\n",
              "    <tr>\n",
              "      <th>4</th>\n",
              "      <td>serum_creatinine</td>\n",
              "      <td>Numeric</td>\n",
              "      <td>No</td>\n",
              "      <td>1</td>\n",
              "      <td>[MeanImputer]</td>\n",
              "      <td>{'Transformer1': {'Input': ['serum_creatinine'...</td>\n",
              "    </tr>\n",
              "    <tr>\n",
              "      <th>5</th>\n",
              "      <td>serum_sodium</td>\n",
              "      <td>Numeric</td>\n",
              "      <td>No</td>\n",
              "      <td>1</td>\n",
              "      <td>[MeanImputer]</td>\n",
              "      <td>{'Transformer1': {'Input': ['serum_sodium'], '...</td>\n",
              "    </tr>\n",
              "    <tr>\n",
              "      <th>6</th>\n",
              "      <td>time</td>\n",
              "      <td>Numeric</td>\n",
              "      <td>No</td>\n",
              "      <td>1</td>\n",
              "      <td>[MeanImputer]</td>\n",
              "      <td>{'Transformer1': {'Input': ['time'], 'Transfor...</td>\n",
              "    </tr>\n",
              "    <tr>\n",
              "      <th>7</th>\n",
              "      <td>anaemia</td>\n",
              "      <td>Categorical</td>\n",
              "      <td>No</td>\n",
              "      <td>1</td>\n",
              "      <td>[ModeCatImputer-StringCast-LabelEncoder]</td>\n",
              "      <td>{'Transformer1': {'Input': ['anaemia'], 'Trans...</td>\n",
              "    </tr>\n",
              "    <tr>\n",
              "      <th>8</th>\n",
              "      <td>diabetes</td>\n",
              "      <td>Categorical</td>\n",
              "      <td>No</td>\n",
              "      <td>1</td>\n",
              "      <td>[ModeCatImputer-StringCast-LabelEncoder]</td>\n",
              "      <td>{'Transformer1': {'Input': ['diabetes'], 'Tran...</td>\n",
              "    </tr>\n",
              "    <tr>\n",
              "      <th>9</th>\n",
              "      <td>high_blood_pressure</td>\n",
              "      <td>Categorical</td>\n",
              "      <td>No</td>\n",
              "      <td>1</td>\n",
              "      <td>[ModeCatImputer-StringCast-LabelEncoder]</td>\n",
              "      <td>{'Transformer1': {'Input': ['high_blood_pressu...</td>\n",
              "    </tr>\n",
              "    <tr>\n",
              "      <th>10</th>\n",
              "      <td>sex</td>\n",
              "      <td>Categorical</td>\n",
              "      <td>No</td>\n",
              "      <td>1</td>\n",
              "      <td>[ModeCatImputer-StringCast-LabelEncoder]</td>\n",
              "      <td>{'Transformer1': {'Input': ['sex'], 'Transform...</td>\n",
              "    </tr>\n",
              "    <tr>\n",
              "      <th>11</th>\n",
              "      <td>smoking</td>\n",
              "      <td>Categorical</td>\n",
              "      <td>No</td>\n",
              "      <td>1</td>\n",
              "      <td>[ModeCatImputer-StringCast-LabelEncoder]</td>\n",
              "      <td>{'Transformer1': {'Input': ['smoking'], 'Trans...</td>\n",
              "    </tr>\n",
              "  </tbody>\n",
              "</table>\n",
              "</div>"
            ],
            "text/plain": [
              "              RawFeatureName TypeDetected Dropped  EngineeredFeatureCount  \\\n",
              "0                        age      Numeric      No                       1   \n",
              "1   creatinine_phosphokinase      Numeric      No                       1   \n",
              "2          ejection_fraction      Numeric      No                       1   \n",
              "3                  platelets      Numeric      No                       1   \n",
              "4           serum_creatinine      Numeric      No                       1   \n",
              "5               serum_sodium      Numeric      No                       1   \n",
              "6                       time      Numeric      No                       1   \n",
              "7                    anaemia  Categorical      No                       1   \n",
              "8                   diabetes  Categorical      No                       1   \n",
              "9        high_blood_pressure  Categorical      No                       1   \n",
              "10                       sex  Categorical      No                       1   \n",
              "11                   smoking  Categorical      No                       1   \n",
              "\n",
              "                             Transformations  \\\n",
              "0                              [MeanImputer]   \n",
              "1                              [MeanImputer]   \n",
              "2                              [MeanImputer]   \n",
              "3                              [MeanImputer]   \n",
              "4                              [MeanImputer]   \n",
              "5                              [MeanImputer]   \n",
              "6                              [MeanImputer]   \n",
              "7   [ModeCatImputer-StringCast-LabelEncoder]   \n",
              "8   [ModeCatImputer-StringCast-LabelEncoder]   \n",
              "9   [ModeCatImputer-StringCast-LabelEncoder]   \n",
              "10  [ModeCatImputer-StringCast-LabelEncoder]   \n",
              "11  [ModeCatImputer-StringCast-LabelEncoder]   \n",
              "\n",
              "                                 TransformationParams  \n",
              "0   {'Transformer1': {'Input': ['age'], 'Transform...  \n",
              "1   {'Transformer1': {'Input': ['creatinine_phosph...  \n",
              "2   {'Transformer1': {'Input': ['ejection_fraction...  \n",
              "3   {'Transformer1': {'Input': ['platelets'], 'Tra...  \n",
              "4   {'Transformer1': {'Input': ['serum_creatinine'...  \n",
              "5   {'Transformer1': {'Input': ['serum_sodium'], '...  \n",
              "6   {'Transformer1': {'Input': ['time'], 'Transfor...  \n",
              "7   {'Transformer1': {'Input': ['anaemia'], 'Trans...  \n",
              "8   {'Transformer1': {'Input': ['diabetes'], 'Tran...  \n",
              "9   {'Transformer1': {'Input': ['high_blood_pressu...  \n",
              "10  {'Transformer1': {'Input': ['sex'], 'Transform...  \n",
              "11  {'Transformer1': {'Input': ['smoking'], 'Trans...  "
            ]
          },
          "execution_count": 7,
          "metadata": {},
          "output_type": "execute_result"
        }
      ],
      "source": [
        "# Download the featurization summary JSON file locally\n",
        "automl_best_run.download_file(\n",
        "    \"outputs/featurization_summary.json\", \"featurization_summary.json\"\n",
        ")\n",
        "\n",
        "# Render the JSON as a pandas DataFrame\n",
        "with open(\"featurization_summary.json\", \"r\") as f:\n",
        "    records = json.load(f)\n",
        "\n",
        "pd.DataFrame.from_records(records)"
      ]
    },
    {
      "cell_type": "code",
      "execution_count": 8,
      "metadata": {
        "gather": {
          "logged": 1649416437006
        },
        "jupyter": {
          "outputs_hidden": false,
          "source_hidden": false
        },
        "nteract": {
          "transient": {
            "deleting": false
          }
        }
      },
      "outputs": [],
      "source": [
        "# Save best automl model.\n",
        "# register the model.\n",
        "\n",
        "#model_automl = automl_best_run.register_model(model_name = \"AutoMLModel.pkl\", model_path = './outputs/')\n",
        "\n",
        "model_name = automl_best_run.properties[\"model_name\"]\n",
        "\n",
        "script_file_name = \"inference/score.py\"\n",
        "\n",
        "automl_best_run.download_file(\"outputs/scoring_file_v_1_0_0.py\", \"inference/score.py\")\n",
        "\n",
        "# If neither metric nor iteration are specified in the register_model call, the iteration with the best primary metric is registered.\n",
        "model_automl = automl_run.register_model(model_name=model_name)"
      ]
    },
    {
      "cell_type": "markdown",
      "metadata": {},
      "source": [
        "## Model Deployment\n",
        "\n",
        "Deploy only one of the two models you trained.\n",
        "\n",
        "Create an inference config and deploy the model as a web service."
      ]
    },
    {
      "cell_type": "code",
      "execution_count": 9,
      "metadata": {
        "gather": {
          "logged": 1649416441910
        },
        "jupyter": {
          "outputs_hidden": false,
          "source_hidden": false
        },
        "nteract": {
          "transient": {
            "deleting": false
          }
        }
      },
      "outputs": [],
      "source": [
        "# Setup environment for your training run\n",
        "env = Environment.from_conda_specification(name='project_environment', file_path='conda_dependencies.yml')\n",
        "\n",
        "# create an inference config.\n",
        "inference_config = InferenceConfig(entry_script=script_file_name)\n",
        "#inference_config = InferenceConfig(entry_script='score.py', environment=env)"
      ]
    },
    {
      "cell_type": "code",
      "execution_count": 10,
      "metadata": {
        "gather": {
          "logged": 1649416621592
        }
      },
      "outputs": [
        {
          "name": "stdout",
          "output_type": "stream",
          "text": [
            "automla6879662417\n",
            "Tips: You can try get_logs(): https://aka.ms/debugimage#dockerlog or local deployment: https://aka.ms/debugimage#debug-locally to debug if deployment takes longer than 10 minutes.\n",
            "Running\n",
            "2022-04-08 11:14:09+00:00 Creating Container Registry if not exists.\n",
            "2022-04-08 11:14:10+00:00 Generating deployment configuration.\n",
            "2022-04-08 11:14:10+00:00 Submitting deployment to compute.\n",
            "2022-04-08 11:14:14+00:00 Checking the status of deployment automla6879662417..\n",
            "2022-04-08 11:16:58+00:00 Checking the status of inference endpoint automla6879662417.\n",
            "Succeeded\n",
            "ACI service creation operation finished, operation \"Succeeded\"\n",
            "Healthy\n"
          ]
        }
      ],
      "source": [
        "# create a deployment configuration (Azure Container Instances).\n",
        "deployment_config = AciWebservice.deploy_configuration(\n",
        "    cpu_cores=3, memory_gb=10, auth_enabled=True, enable_app_insights=True)\n",
        "\n",
        "service_name = model_name.lower()\n",
        "\n",
        "# deploy the model as a web service.\n",
        "service = Model.deploy(\n",
        "    workspace = ws,\n",
        "    name = service_name,\n",
        "    models = [model_automl],\n",
        "    inference_config = inference_config,\n",
        "    deployment_config = deployment_config,\n",
        "    overwrite=True)\n",
        "\n",
        "service.wait_for_deployment(show_output=True)\n",
        "print(service.state)"
      ]
    },
    {
      "cell_type": "markdown",
      "metadata": {
        "collapsed": true,
        "gather": {
          "logged": 1598431657736
        },
        "jupyter": {
          "outputs_hidden": false,
          "source_hidden": false
        },
        "nteract": {
          "transient": {
            "deleting": false
          }
        }
      },
      "source": [
        "Test\n",
        "\n",
        "Send a request to the deployed web service to test it.\n",
        "\n",
        "Now that the model is trained, run the test data through the trained model to get the predicted values. This calls the ACI web service to do the prediction.\n",
        "\n",
        "Note that the JSON passed to the ACI web service is an array of rows of data. Each row should either be an array of values in the same order that was used for training or a dictionary where the keys are the same as the column names used for training. The example below uses dictionary rows."
      ]
    },
    {
      "cell_type": "code",
      "execution_count": 13,
      "metadata": {
        "gather": {
          "logged": 1649416762320
        }
      },
      "outputs": [
        {
          "data": {
            "text/html": [
              "<div>\n",
              "<style scoped>\n",
              "    .dataframe tbody tr th:only-of-type {\n",
              "        vertical-align: middle;\n",
              "    }\n",
              "\n",
              "    .dataframe tbody tr th {\n",
              "        vertical-align: top;\n",
              "    }\n",
              "\n",
              "    .dataframe thead th {\n",
              "        text-align: right;\n",
              "    }\n",
              "</style>\n",
              "<table border=\"1\" class=\"dataframe\">\n",
              "  <thead>\n",
              "    <tr style=\"text-align: right;\">\n",
              "      <th></th>\n",
              "      <th>age</th>\n",
              "      <th>anaemia</th>\n",
              "      <th>creatinine_phosphokinase</th>\n",
              "      <th>diabetes</th>\n",
              "      <th>ejection_fraction</th>\n",
              "      <th>high_blood_pressure</th>\n",
              "      <th>platelets</th>\n",
              "      <th>serum_creatinine</th>\n",
              "      <th>serum_sodium</th>\n",
              "      <th>sex</th>\n",
              "      <th>smoking</th>\n",
              "      <th>time</th>\n",
              "      <th>DEATH_EVENT</th>\n",
              "    </tr>\n",
              "  </thead>\n",
              "  <tbody>\n",
              "    <tr>\n",
              "      <th>0</th>\n",
              "      <td>49</td>\n",
              "      <td>1</td>\n",
              "      <td>80</td>\n",
              "      <td>0</td>\n",
              "      <td>30</td>\n",
              "      <td>1</td>\n",
              "      <td>427000</td>\n",
              "      <td>1.0</td>\n",
              "      <td>138</td>\n",
              "      <td>0</td>\n",
              "      <td>0</td>\n",
              "      <td>12</td>\n",
              "      <td>0</td>\n",
              "    </tr>\n",
              "    <tr>\n",
              "      <th>1</th>\n",
              "      <td>82</td>\n",
              "      <td>1</td>\n",
              "      <td>379</td>\n",
              "      <td>0</td>\n",
              "      <td>50</td>\n",
              "      <td>0</td>\n",
              "      <td>47000</td>\n",
              "      <td>1.3</td>\n",
              "      <td>136</td>\n",
              "      <td>1</td>\n",
              "      <td>0</td>\n",
              "      <td>13</td>\n",
              "      <td>1</td>\n",
              "    </tr>\n",
              "  </tbody>\n",
              "</table>\n",
              "</div>"
            ],
            "text/plain": [
              "   age  anaemia  creatinine_phosphokinase  diabetes  ejection_fraction  \\\n",
              "0   49        1                        80         0                 30   \n",
              "1   82        1                       379         0                 50   \n",
              "\n",
              "   high_blood_pressure  platelets  serum_creatinine  serum_sodium  sex  \\\n",
              "0                    1     427000               1.0           138    0   \n",
              "1                    0      47000               1.3           136    1   \n",
              "\n",
              "   smoking  time  DEATH_EVENT  \n",
              "0        0    12            0  \n",
              "1        0    13            1  "
            ]
          },
          "execution_count": 13,
          "metadata": {},
          "output_type": "execute_result"
        }
      ],
      "source": [
        "# Load the test dataset from the Workspace.\n",
        "test_dataset_name = \"test_data_heart_failure\"\n",
        "testDataSet = Dataset.get_by_name(ws, test_dataset_name)\n",
        "\n",
        "X_test = testDataSet.drop_columns(columns=[\"DEATH_EVENT\"]).to_pandas_dataframe()\n",
        "y_test = testDataSet.keep_columns(columns=[\"DEATH_EVENT\"], validate=True).to_pandas_dataframe()\n",
        "\n",
        "testDataSet.take(2).to_pandas_dataframe()"
      ]
    },
    {
      "cell_type": "code",
      "execution_count": 23,
      "metadata": {
        "gather": {
          "logged": 1649417872412
        }
      },
      "outputs": [
        {
          "name": "stdout",
          "output_type": "stream",
          "text": [
            "[1, 1]\n"
          ]
        }
      ],
      "source": [
        "X_test_json = X_test.to_json(orient=\"records\")\n",
        "data = '{\"data\": ' + X_test_json + \"}\"\n",
        "\n",
        "# If the service is authenticated, set the key or token\n",
        "key, _ = service.get_keys()\n",
        "\n",
        "# Set the appropriate headers\n",
        "headers = {\"Content-Type\": \"application/json\"}\n",
        "headers[\"Authorization\"] = f\"Bearer {key}\"\n",
        "\n",
        "resp = requests.post(service.scoring_uri, data, headers=headers)\n",
        "\n",
        "y_pred = json.loads(json.loads(resp.text))[\"result\"]\n",
        "print(y_pred)"
      ]
    },
    {
      "cell_type": "code",
      "execution_count": 24,
      "metadata": {
        "gather": {
          "logged": 1649417936432
        }
      },
      "outputs": [
        {
          "name": "stdout",
          "output_type": "stream",
          "text": [
            "[0 1]\n"
          ]
        }
      ],
      "source": [
        "actual = array(y_test)\n",
        "print(actual[:, 0])"
      ]
    },
    {
      "cell_type": "markdown",
      "metadata": {
        "nteract": {
          "transient": {
            "deleting": false
          }
        }
      },
      "source": [
        "Visualize the data as a confusion matrix that compared the predicted values against the actual values."
      ]
    },
    {
      "cell_type": "code",
      "execution_count": 25,
      "metadata": {
        "gather": {
          "logged": 1649417968225
        },
        "jupyter": {
          "outputs_hidden": false,
          "source_hidden": false
        },
        "nteract": {
          "transient": {
            "deleting": false
          }
        }
      },
      "outputs": [
        {
          "data": {
            "image/png": "[encoded data removed]",
            "text/plain": [
              "<Figure size 432x288 with 2 Axes>"
            ]
          },
          "metadata": {
            "needs_background": "light"
          },
          "output_type": "display_data"
        }
      ],
      "source": [
        "cf = confusion_matrix(actual, y_pred)\n",
        "plt.imshow(cf, cmap=plt.cm.Blues, interpolation=\"nearest\")\n",
        "plt.colorbar()\n",
        "plt.title(\"Confusion Matrix\")\n",
        "plt.xlabel(\"Predicted DEATH Event\")\n",
        "plt.ylabel(\"Actual DEATH Event\")\n",
        "class_labels = [\"Death - No\", \"Death - Yes\"]\n",
        "tick_marks = np.arange(len(class_labels))\n",
        "plt.xticks(tick_marks, class_labels)\n",
        "plt.yticks([-0.5, 0, 1, 1.5], [\"\", \"Death - No\", \"Death - Yes\", \"\"])\n",
        "# plotting text value inside cells\n",
        "thresh = cf.max() / 2.0\n",
        "for i, j in itertools.product(range(cf.shape[0]), range(cf.shape[1])):\n",
        "    plt.text(\n",
        "        j,\n",
        "        i,\n",
        "        format(cf[i, j], \"d\"),\n",
        "        horizontalalignment=\"center\",\n",
        "        color=\"white\" if cf[i, j] > thresh else \"black\",\n",
        "    )\n",
        "plt.show()"
      ]
    },
    {
      "cell_type": "markdown",
      "metadata": {
        "collapsed": true,
        "gather": {
          "logged": 1598432765711
        },
        "jupyter": {
          "outputs_hidden": false,
          "source_hidden": false
        },
        "nteract": {
          "transient": {
            "deleting": false
          }
        }
      },
      "source": [
        "Print the logs of the web service and delete the service"
      ]
    },
    {
      "cell_type": "code",
      "execution_count": 26,
      "metadata": {
        "gather": {
          "logged": 1649418026660
        },
        "jupyter": {
          "outputs_hidden": false,
          "source_hidden": false
        },
        "nteract": {
          "transient": {
            "deleting": false
          }
        }
      },
      "outputs": [
        {
          "name": "stdout",
          "output_type": "stream",
          "text": [
            "2022-04-08T11:16:49,219333100+00:00 - gunicorn/run \n",
            "2022-04-08T11:16:49,219437400+00:00 - rsyslog/run \n",
            "2022-04-08T11:16:49,219438200+00:00 - iot-server/run \n",
            "Dynamic Python package installation is disabled.\n",
            "Starting HTTP server\n",
            "2022-04-08T11:16:49,260870800+00:00 - nginx/run \n",
            "rsyslogd: /azureml-envs/azureml_2039c3f5cc4ae631ef3fdf7a2e093d5a/lib/libuuid.so.1: no version information available (required by rsyslogd)\n",
            "EdgeHubConnectionString and IOTEDGE_IOTHUBHOSTNAME are not set. Exiting...\n",
            "2022-04-08T11:16:49,497146600+00:00 - iot-server/finish 1 0\n",
            "2022-04-08T11:16:49,499894100+00:00 - Exit code 1 is normal. Not restarting iot-server.\n",
            "Starting gunicorn 20.1.0\n",
            "Listening at: http://127.0.0.1:31311 (85)\n",
            "Using worker: sync\n",
            "worker timeout is set to 300\n",
            "Booting worker with pid: 112\n",
            "SPARK_HOME not set. Skipping PySpark Initialization.\n",
            "Initializing logger\n",
            "2022-04-08 11:16:51,031 | root | INFO | Starting up app insights client\n",
            "logging socket was found. logging is available.\n",
            "logging socket was found. logging is available.\n",
            "2022-04-08 11:16:51,031 | root | INFO | Starting up request id generator\n",
            "2022-04-08 11:16:51,031 | root | INFO | Starting up app insight hooks\n",
            "2022-04-08 11:16:51,031 | root | INFO | Invoking user's init function\n",
            "2022-04-08 11:16:57,108 | root | INFO | Users's init has completed successfully\n",
            "2022-04-08 11:16:57,112 | root | INFO | Skipping middleware: dbg_model_info as it's not enabled.\n",
            "2022-04-08 11:16:57,112 | root | INFO | Skipping middleware: dbg_resource_usage as it's not enabled.\n",
            "Generating swagger file: /tmp/tmpgv1te7e5\n",
            "2022-04-08 11:16:57,115 | root | INFO | Scoring timeout is found from os.environ: 60000 ms\n",
            "2022-04-08 11:16:58,116 | root | INFO | 200\n",
            "127.0.0.1 - - [08/Apr/2022:11:16:58 +0000] \"GET /swagger.json HTTP/1.0\" 200 3149 \"-\" \"Go-http-client/1.1\"\n",
            "2022-04-08 11:17:01,328 | root | INFO | 200\n",
            "127.0.0.1 - - [08/Apr/2022:11:17:01 +0000] \"GET /swagger.json HTTP/1.0\" 200 3149 \"-\" \"Go-http-client/1.1\"\n",
            "2022-04-08 11:25:01,963 | root | INFO | 200\n",
            "127.0.0.1 - - [08/Apr/2022:11:25:01 +0000] \"GET /swagger.json HTTP/1.0\" 200 3149 \"-\" \"Go-http-client/1.1\"\n",
            "2022-04-08 11:25:09,288 | root | INFO | 200\n",
            "127.0.0.1 - - [08/Apr/2022:11:25:09 +0000] \"GET /swagger.json HTTP/1.0\" 200 3149 \"-\" \"Go-http-client/1.1\"\n",
            "2022-04-08 11:25:18,115 | root | INFO | 200\n",
            "127.0.0.1 - - [08/Apr/2022:11:25:18 +0000] \"GET /swagger.json HTTP/1.0\" 200 3149 \"-\" \"Go-http-client/1.1\"\n",
            "2022-04-08 11:25:55,885 | root | INFO | 200\n",
            "127.0.0.1 - - [08/Apr/2022:11:25:55 +0000] \"GET /swagger.json HTTP/1.0\" 200 3149 \"-\" \"Go-http-client/1.1\"\n",
            "2022-04-08 11:26:00,694 | root | INFO | 200\n",
            "127.0.0.1 - - [08/Apr/2022:11:26:00 +0000] \"GET /swagger.json HTTP/1.0\" 200 3149 \"-\" \"Go-http-client/1.1\"\n",
            "2022-04-08 11:26:02,036 | root | INFO | 200\n",
            "127.0.0.1 - - [08/Apr/2022:11:26:02 +0000] \"GET /swagger.json HTTP/1.0\" 200 3149 \"-\" \"Go-http-client/1.1\"\n",
            "2022-04-08 11:26:05,216 | root | INFO | 200\n",
            "127.0.0.1 - - [08/Apr/2022:11:26:05 +0000] \"GET /swagger.json HTTP/1.0\" 200 3149 \"-\" \"Go-http-client/1.1\"\n",
            "2022-04-08 11:26:07,953 | root | INFO | 200\n",
            "127.0.0.1 - - [08/Apr/2022:11:26:07 +0000] \"GET /swagger.json HTTP/1.0\" 200 3149 \"-\" \"Go-http-client/1.1\"\n",
            "2022-04-08 11:28:03,141 | root | INFO | Validation Request Content-Type\n",
            "2022-04-08 11:28:03,142 | root | INFO | Scoring Timer is set to 60.0 seconds\n",
            "2022-04-08 11:28:03,228 | root | INFO | 200\n",
            "127.0.0.1 - - [08/Apr/2022:11:28:03 +0000] \"POST /score HTTP/1.0\" 200 22 \"-\" \"python-requests/2.27.1\"\n",
            "2022-04-08 11:37:52,246 | root | INFO | Validation Request Content-Type\n",
            "2022-04-08 11:37:52,247 | root | INFO | Scoring Timer is set to 60.0 seconds\n",
            "2022-04-08 11:37:52,312 | root | INFO | 200\n",
            "127.0.0.1 - - [08/Apr/2022:11:37:52 +0000] \"POST /score HTTP/1.0\" 200 22 \"-\" \"python-requests/2.27.1\"\n",
            "\n"
          ]
        }
      ],
      "source": [
        "print(service.get_logs())"
      ]
    },
    {
      "cell_type": "code",
      "execution_count": null,
      "metadata": {
        "jupyter": {
          "outputs_hidden": false,
          "source_hidden": false
        },
        "nteract": {
          "transient": {
            "deleting": false
          }
        }
      },
      "outputs": [],
      "source": [
        "# delete the service\n",
        "service.delete()\n",
        "model_automl.delete()\n",
        "compute_cluster.delete()"
      ]
    },
    {
      "cell_type": "markdown",
      "metadata": {},
      "source": [
        "**Submission Checklist**\n",
        "- I have registered the model.\n",
        "- I have deployed the model with the best accuracy as a webservice.\n",
        "- I have tested the webservice by sending a request to the model endpoint.\n",
        "- I have deleted the webservice and shutdown all the computes that I have used.\n",
        "- I have taken a screenshot showing the model endpoint as active.\n",
        "- The project includes a file containing the environment details.\n"
      ]
    },
    {
      "cell_type": "markdown",
      "metadata": {},
      "source": []
    }
  ],
  "metadata": {
    "kernel_info": {
      "name": "python38-azureml"
    },
    "kernelspec": {
      "display_name": "Python 3.8 - AzureML",
      "language": "python",
      "name": "python38-azureml"
    },
    "language_info": {
      "codemirror_mode": {
        "name": "ipython",
        "version": 3
      },
      "file_extension": ".py",
      "mimetype": "text/x-python",
      "name": "python",
      "nbconvert_exporter": "python",
      "pygments_lexer": "ipython3",
      "version": "3.8.5"
    },
    "microsoft": {
      "host": {
        "AzureML": {
          "notebookHasBeenCompleted": true
        }
      }
    },
    "nteract": {
      "version": "nteract-front-end@1.0.0"
    }
  },
  "nbformat": 4,
  "nbformat_minor": 2
}
